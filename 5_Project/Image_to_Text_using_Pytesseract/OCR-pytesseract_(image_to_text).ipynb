{
 "cells": [
  {
   "cell_type": "markdown",
   "metadata": {},
   "source": [
    "### How to Convert Image into Text using Pytesseract"
   ]
  },
  {
   "cell_type": "markdown",
   "metadata": {},
   "source": [
    "Python-tesseract is an optical character recognition (OCR) tool for python. That is, it will recognize and “read” the text embedded in images.\n",
    "\n",
    "Python-tesseract is a wrapper for Google’s Tesseract-OCR Engine. It is also useful as a stand-alone invocation script to tesseract, as it can read all image types supported by the Pillow and Leptonica imaging libraries, including jpeg, png, gif, bmp, tiff, and others. Additionally, if used as a script, Python-tesseract will print the recognized text instead of writing it to a file."
   ]
  },
  {
   "cell_type": "code",
   "execution_count": 1,
   "metadata": {},
   "outputs": [],
   "source": [
    "import cv2 # open-cv\n",
    "import numpy as np\n",
    "import pytesseract\n",
    "from PIL import Image # Pillow\n",
    "\n",
    "pytesseract.pytesseract.tesseract_cmd = \"C:\\\\Program Files\\\\Tesseract-OCR\\\\tesseract\""
   ]
  },
  {
   "cell_type": "code",
   "execution_count": 2,
   "metadata": {},
   "outputs": [],
   "source": [
    "# Path of working folder on Disk\n",
    "src_path = \"C:/AkuPintar/AI-Project-Teman-Pintar/build-1/\"\n",
    "\n",
    "def get_String(img_path):\n",
    "    #read image\n",
    "    img = cv2.imread(img_path)\n",
    "    #convert it to gray\n",
    "    img = cv2.cvtColor(img, cv2.COLOR_BGR2GRAY)\n",
    "    #apply some dilation and erosion to remove some noise\n",
    "    kernel = np.ones((1, 1), np.uint8)\n",
    "    img = cv2.dilate(img, kernel, iterations=1)\n",
    "    img = cv2.erode(img, kernel, iterations=1)\n",
    "    #save image\n",
    "    cv2.imwrite(src_path + \"img2.png\", img)\n",
    "    \n",
    "    #apply threshold to get image only with black&white color\n",
    "    img = cv2.adaptiveThreshold(img, 255, cv2.ADAPTIVE_THRESH_GAUSSIAN_C, cv2.THRESH_BINARY, 11, 2)\n",
    "    #save image\n",
    "    cv2.imwrite(src_path + \"img3.png\", img)\n",
    "    \n",
    "    #read text from images\n",
    "    result = pytesseract.image_to_string(Image.open(src_path + \"img3.png\"))\n",
    "    #return text results\n",
    "    return result"
   ]
  },
  {
   "cell_type": "code",
   "execution_count": 3,
   "metadata": {},
   "outputs": [
    {
     "name": "stdout",
     "output_type": "stream",
     "text": [
      "Kalahkan hacker. Daftar Firefox Monitor dan dapatkan peringatan jika ada\n",
      "pelanggaran atas informasi pribadi Anda.\n"
     ]
    }
   ],
   "source": [
    "print(get_String(src_path + \"test.png\"))"
   ]
  },
  {
   "cell_type": "code",
   "execution_count": 4,
   "metadata": {},
   "outputs": [
    {
     "name": "stdout",
     "output_type": "stream",
     "text": [
      "<PIL.PngImagePlugin.PngImageFile image mode=RGBA size=468x60 at 0x87856B0>\n"
     ]
    },
    {
     "data": {
      "text/plain": [
       "'Kalahkan hacker. Daftar Firefox Monitor dan dapatkan peringatan jika ada\\npelanggaran atas informasi pribadi Anda.'"
      ]
     },
     "execution_count": 4,
     "metadata": {},
     "output_type": "execute_result"
    }
   ],
   "source": [
    "# opening an image from the source path \n",
    "img = Image.open('test.png')      \n",
    "\n",
    "# describes image format in the output \n",
    "print(img)\n",
    "\n",
    "pytesseract.image_to_string(img)"
   ]
  },
  {
   "cell_type": "markdown",
   "metadata": {},
   "source": [
    "### Image format can't be .jpg"
   ]
  },
  {
   "cell_type": "code",
   "execution_count": 10,
   "metadata": {},
   "outputs": [
    {
     "name": "stdout",
     "output_type": "stream",
     "text": [
      "c ‘dag capankanperngetaa yt\n",
      "pélanggaran tas informasi pribadi Anda.s\n"
     ]
    }
   ],
   "source": [
    "print(get_String(src_path + \"test.jpg\"))"
   ]
  },
  {
   "cell_type": "markdown",
   "metadata": {},
   "source": [
    "### Convert .jpg into .png"
   ]
  },
  {
   "cell_type": "code",
   "execution_count": 11,
   "metadata": {},
   "outputs": [],
   "source": [
    "from PIL import Image\n",
    "\n",
    "# convert .jpg to .png\n",
    "im = Image.open('Foto.jpg')\n",
    "im.save('Foto.png')"
   ]
  },
  {
   "cell_type": "markdown",
   "metadata": {},
   "source": [
    "see the result if .jpg converted into .png"
   ]
  },
  {
   "cell_type": "code",
   "execution_count": 12,
   "metadata": {},
   "outputs": [
    {
     "name": "stdout",
     "output_type": "stream",
     "text": [
      "c ‘dag capankanperngetaa yt\n",
      "pélanggaran tas informasi pribadi Anda.s\n"
     ]
    }
   ],
   "source": [
    "print(get_String(src_path + \"Foto.png\"))"
   ]
  }
 ],
 "metadata": {
  "kernelspec": {
   "display_name": "Python 3",
   "language": "python",
   "name": "python3"
  },
  "language_info": {
   "codemirror_mode": {
    "name": "ipython",
    "version": 3
   },
   "file_extension": ".py",
   "mimetype": "text/x-python",
   "name": "python",
   "nbconvert_exporter": "python",
   "pygments_lexer": "ipython3",
   "version": "3.7.4"
  }
 },
 "nbformat": 4,
 "nbformat_minor": 2
}
