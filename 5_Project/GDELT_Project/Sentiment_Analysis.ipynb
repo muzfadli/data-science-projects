{
 "cells": [
  {
   "cell_type": "code",
   "execution_count": 143,
   "metadata": {},
   "outputs": [],
   "source": [
    "import pandas as pd\n",
    "import numpy as np\n",
    "\n",
    "data = pd.read_excel('Data Master.xlsx')\n",
    "data['tonasi'] = np.where(data['AvgTone']<0, -1, np.where(data['AvgTone']>0, 1, 0))"
   ]
  },
  {
   "cell_type": "code",
   "execution_count": 144,
   "metadata": {},
   "outputs": [],
   "source": [
    "sentimen = data[['content','tonasi']]"
   ]
  },
  {
   "cell_type": "code",
   "execution_count": 145,
   "metadata": {},
   "outputs": [],
   "source": [
    "sentimen = sentimen.drop_duplicates()"
   ]
  },
  {
   "cell_type": "code",
   "execution_count": 147,
   "metadata": {},
   "outputs": [
    {
     "name": "stdout",
     "output_type": "stream",
     "text": [
      "(898,)\n",
      "(898,)\n"
     ]
    }
   ],
   "source": [
    "X = sentimen.content.astype('U')\n",
    "y = sentimen.tonasi.astype('U')\n",
    "print(X.shape)\n",
    "print(y.shape)"
   ]
  },
  {
   "cell_type": "code",
   "execution_count": 172,
   "metadata": {},
   "outputs": [
    {
     "name": "stdout",
     "output_type": "stream",
     "text": [
      "(808,)\n",
      "(90,)\n",
      "(808,)\n",
      "(90,)\n"
     ]
    }
   ],
   "source": [
    "X_train, X_test, y_train, y_test = train_test_split(X, y, test_size=0.1)\n",
    "print(X_train.shape)\n",
    "print(X_test.shape)\n",
    "print(y_train.shape)\n",
    "print(y_test.shape)\n"
   ]
  },
  {
   "cell_type": "code",
   "execution_count": 173,
   "metadata": {},
   "outputs": [],
   "source": [
    "vect.fit(X_train)\n",
    "X_train_dtm = vect.transform(X_train)\n"
   ]
  },
  {
   "cell_type": "code",
   "execution_count": 174,
   "metadata": {},
   "outputs": [],
   "source": [
    "X_test_dtm = vect.transform(X_test)"
   ]
  },
  {
   "cell_type": "code",
   "execution_count": 165,
   "metadata": {},
   "outputs": [],
   "source": [
    "from sklearn.naive_bayes import MultinomialNB\n",
    "from sklearn.neural_network import MLPClassifier\n",
    "from sklearn.neighbors import KNeighborsClassifier\n",
    "from sklearn.tree import DecisionTreeClassifier\n",
    "nb = MultinomialNB()\n",
    "mlp = MLPClassifier()\n",
    "neigh = KNeighborsClassifier(n_neighbors=3)\n",
    "clf = DecisionTreeClassifier()"
   ]
  },
  {
   "cell_type": "code",
   "execution_count": 175,
   "metadata": {},
   "outputs": [
    {
     "name": "stdout",
     "output_type": "stream",
     "text": [
      "Wall time: 26.9 ms\n",
      "Wall time: 46.3 s\n",
      "Wall time: 16.5 ms\n",
      "Wall time: 1.23 s\n"
     ]
    },
    {
     "data": {
      "text/plain": [
       "DecisionTreeClassifier(class_weight=None, criterion='gini', max_depth=None,\n",
       "            max_features=None, max_leaf_nodes=None,\n",
       "            min_impurity_decrease=0.0, min_impurity_split=None,\n",
       "            min_samples_leaf=1, min_samples_split=2,\n",
       "            min_weight_fraction_leaf=0.0, presort=False, random_state=None,\n",
       "            splitter='best')"
      ]
     },
     "execution_count": 175,
     "metadata": {},
     "output_type": "execute_result"
    }
   ],
   "source": [
    "%time nb.fit(X_train_dtm, y_train)\n",
    "%time mlp.fit(X_train_dtm, y_train)\n",
    "%time neigh.fit(X_train_dtm, y_train)\n",
    "%time clf.fit(X_train_dtm, y_train)"
   ]
  },
  {
   "cell_type": "code",
   "execution_count": 164,
   "metadata": {},
   "outputs": [
    {
     "data": {
      "text/plain": [
       "'Indonesia seeks Malaysian promise to protect migrant workers\\n\\nJAKARTA: Malaysian Prime Minister Mahathir Mohamad has pledged to protect millions of Indonesians living and working in the country, Indon'"
      ]
     },
     "execution_count": 164,
     "metadata": {},
     "output_type": "execute_result"
    }
   ],
   "source": [
    "X_test.values[0][:200]"
   ]
  },
  {
   "cell_type": "code",
   "execution_count": 176,
   "metadata": {},
   "outputs": [],
   "source": [
    "y_pred_nb = nb.predict(X_test_dtm)\n",
    "y_pred_mlp = mlp.predict(X_test_dtm)\n",
    "y_pred_knn = neigh.predict(X_test_dtm)\n",
    "y_pred_tree = clf.predict(X_test_dtm)"
   ]
  },
  {
   "cell_type": "code",
   "execution_count": 177,
   "metadata": {},
   "outputs": [
    {
     "name": "stdout",
     "output_type": "stream",
     "text": [
      "0.8\n",
      "0.8222222222222222\n",
      "0.7333333333333333\n",
      "0.7777777777777778\n"
     ]
    }
   ],
   "source": [
    "from sklearn import metrics\n",
    "print(metrics.accuracy_score(y_test, y_pred_nb))\n",
    "print(metrics.accuracy_score(y_test, y_pred_mlp))\n",
    "print(metrics.accuracy_score(y_test, y_pred_knn))\n",
    "print(metrics.accuracy_score(y_test, y_pred_tree))"
   ]
  },
  {
   "cell_type": "code",
   "execution_count": 156,
   "metadata": {},
   "outputs": [
    {
     "data": {
      "text/plain": [
       "array([[57,  2, 10],\n",
       "       [ 1,  0,  2],\n",
       "       [ 8,  2,  8]], dtype=int64)"
      ]
     },
     "execution_count": 156,
     "metadata": {},
     "output_type": "execute_result"
    }
   ],
   "source": [
    "metrics.confusion_matrix(y_test, y_pred_tree)"
   ]
  },
  {
   "cell_type": "code",
   "execution_count": 157,
   "metadata": {
    "scrolled": true
   },
   "outputs": [
    {
     "data": {
      "text/plain": [
       "948     Indonesia seeks Malaysian promise to protect m...\n",
       "1623    Indonesia, home to the world’s third-largest s...\n",
       "1130    The latest European Union plan to ban palm oil...\n",
       "1411    Friday, 20 July, 2018 | 21:08 WIB\\n\\nIndonesia...\n",
       "1395    In Indonesia, it would seem that if your surna...\n",
       "1341    Click to print (Opens in new window)\\n\\nClick ...\n",
       "214     Breathing Fire: Health Is a Casualty of Califo...\n",
       "1519    The Jakarta administration has decorated Senti...\n",
       "1833    The future of infrastructure – clean, lean and...\n",
       "3535    ‘Winter is coming,’ IMF told at Bali summit\\n\\...\n",
       "1365    Indonesia - The banks of the Ciliwung River ar...\n",
       "997     CAPE TOWN, South Africa, 19 June 2018 (Global ...\n",
       "3063    David Brett\\n\\nThe US is the only developed co...\n",
       "722     Jetstar, AirAsia flights to Bali among those c...\n",
       "536     Perry said the surge in U.S. fossil fuels prod...\n",
       "706     By Richard ValdmanisWASHINGTON: U.S. energy gi...\n",
       "1727    Despite the pattern, former bosses in the Fore...\n",
       "1755    The cabinet has met at least six times since t...\n",
       "3164    Greenpeace activists have scaled an Indonesian...\n",
       "2979    \"Brands are not just complicit in rainforest d...\n",
       "1008    DUBLIN, July 3, 2018 /PRNewswire/ --\\n\\nThe \"G...\n",
       "2378    Questo comunicato è stato pubblicato più di 30...\n",
       "362     Pune, India -- (SBWIRE) -- 06/19/2018 -- Logis...\n",
       "72      A global coral reef monitoring system is comin...\n",
       "3466    Malaysia has agreed to nominate palm-oil speci...\n",
       "3304    In case you missed it\\n\\n(CNN) Rescue workers ...\n",
       "228     (Union zur Förderung von Oel- und Proteinpflan...\n",
       "3277    Indonesia’s President halts signing of weak pa...\n",
       "10      \\n\\n\\n\\n2018/05/31 South Korea's sulphur cap a...\n",
       "1085    AsianScientist (Jul. 5, 2018) – Scientists hav...\n",
       "                              ...                        \n",
       "2991    The moratorium has been in the works for a lon...\n",
       "1689    A study has found that 21 fish species in the ...\n",
       "2008    Reading Time: 2 minutes\\n\\nThailand will ban i...\n",
       "1597    (Adds detail)\\n\\nBy Sudarshan Varadhan\\n\\nNEW ...\n",
       "53      BANGKOK (Reuters) - On her lunch break, Bangko...\n",
       "43      Three years ago, the steel mill outside the sm...\n",
       "2945    Steve Zwick\\n\\nTropical deforestation accelera...\n",
       "2980    A seventh-century Srivijaya king, Srijayanasa,...\n",
       "3524    Indonesia promotes sustainable palm oil in Nor...\n",
       "2034    Palm oil is ubiquitous and is set to become mo...\n",
       "2982    Dr Hezri Adnan was at a coffee shop near Atene...\n",
       "1981    How Saudi Arabia is moving towards a green eco...\n",
       "2035    EXCLUSIVE: A FRESH push is underway to have Ba...\n",
       "3114    Industrial Boiler Market: Overview\\n\\nThe glob...\n",
       "1289    Sunday, 15 July, 2018 | 13:24 WIB\\n\\nMinister ...\n",
       "3157    Plastics make up 37 percent of garbage polluti...\n",
       "2185    As ambient air pollution chokes Jakarta amid h...\n",
       "3412    Wensislaus Fatubun visits Aotearoa\\n\\n5 Octobe...\n",
       "1725    Automotive industry plans to use biodiesel 20 ...\n",
       "3371    Southeast Asia has seen a significant increase...\n",
       "1957    Institutional investors want to the Roundtable...\n",
       "1265    This article was republished on June 26, 2018,...\n",
       "648     At this point, it’s a widely-known fact that t...\n",
       "3471    As Stacey Dooley walks across a dried up deser...\n",
       "1340    By CNBC – Cross-border organized crime is big ...\n",
       "795     THOUSANDS of Australians have put their dreams...\n",
       "171     French farmers are to picket oil refineries th...\n",
       "3564    International financial agencies confirm their...\n",
       "3461    The Association of Indonesian Automotive Manuf...\n",
       "1268    Honda\\n\\nHonda and Panasonic on Friday announc...\n",
       "Name: content, Length: 90, dtype: object"
      ]
     },
     "execution_count": 157,
     "metadata": {},
     "output_type": "execute_result"
    }
   ],
   "source": [
    "X_test"
   ]
  },
  {
   "cell_type": "code",
   "execution_count": 182,
   "metadata": {},
   "outputs": [
    {
     "data": {
      "text/plain": [
       "array(['1'], dtype='<U2')"
      ]
     },
     "execution_count": 182,
     "metadata": {},
     "output_type": "execute_result"
    }
   ],
   "source": [
    "test1 = ['Every day, the numbers of people switching to electric cars, installing solar panels on their roofs, and modifying their lifestyle to protect the environment are increasing and encouraging. Besides individual efforts to “go green,” there are many organized efforts that we can commend for their efforts and progress. Corporations, individuals, and non-profit organizations have initiated a host of voluntary programs. The following examples indicate the range of actions: \\n The Carbon Disclosure Project is the largest global collection of self-reported information. It enables companies to measure, disclose, manage, and share climate change and water-use information. Some 650 U.S. signatories include banks, pension funds, asset managers, insurance companies, and foundations. \\n Many local governments are undertaking initiatives to reduce greenhouse gas emissions. For example, over 1,055 municipalities from all 50 states have signed the U.S. Mayors Climate Protection Agreement, and many of these communities are actively implementing strategies to reduce their emissions.']\n",
    "new_article_vect = vect.transform(test1)\n",
    "mlp.predict(new_article_vect)"
   ]
  },
  {
   "cell_type": "code",
   "execution_count": null,
   "metadata": {},
   "outputs": [],
   "source": []
  }
 ],
 "metadata": {
  "kernelspec": {
   "display_name": "Python 3",
   "language": "python",
   "name": "python3"
  },
  "language_info": {
   "codemirror_mode": {
    "name": "ipython",
    "version": 3
   },
   "file_extension": ".py",
   "mimetype": "text/x-python",
   "name": "python",
   "nbconvert_exporter": "python",
   "pygments_lexer": "ipython3",
   "version": "3.7.0"
  }
 },
 "nbformat": 4,
 "nbformat_minor": 2
}
