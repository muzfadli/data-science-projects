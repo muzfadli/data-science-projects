{
 "cells": [
  {
   "cell_type": "markdown",
   "metadata": {},
   "source": [
    "## Dataset"
   ]
  },
  {
   "cell_type": "code",
   "execution_count": 1,
   "metadata": {},
   "outputs": [],
   "source": [
    "from pandas import DataFrame, read_csv\n",
    "import pandas as pd\n",
    "import numpy as np\n",
    "\n",
    "eksposur = pd.read_excel(\"Data.xlsx\", sheet_name=0)\n",
    "tonasi = pd.read_excel(\"Data.xlsx\", sheet_name=1)\n",
    "kode = pd.read_excel(\"Data.xlsx\", sheet_name=2)"
   ]
  },
  {
   "cell_type": "markdown",
   "metadata": {},
   "source": [
    "## Eksposur"
   ]
  },
  {
   "cell_type": "code",
   "execution_count": 2,
   "metadata": {},
   "outputs": [
    {
     "data": {
      "text/html": [
       "<div>\n",
       "<style scoped>\n",
       "    .dataframe tbody tr th:only-of-type {\n",
       "        vertical-align: middle;\n",
       "    }\n",
       "\n",
       "    .dataframe tbody tr th {\n",
       "        vertical-align: top;\n",
       "    }\n",
       "\n",
       "    .dataframe thead th {\n",
       "        text-align: right;\n",
       "    }\n",
       "</style>\n",
       "<table border=\"1\" class=\"dataframe\">\n",
       "  <thead>\n",
       "    <tr style=\"text-align: right;\">\n",
       "      <th></th>\n",
       "      <th>Jumlah Berita Label 0</th>\n",
       "      <th>Jumlah Berita Label 1</th>\n",
       "      <th>Jumlah Berita Label 2</th>\n",
       "      <th>Jumlah Berita Label 3</th>\n",
       "      <th>Jumlah Berita Label 4</th>\n",
       "      <th>Tanggal</th>\n",
       "    </tr>\n",
       "  </thead>\n",
       "  <tbody>\n",
       "    <tr>\n",
       "      <th>0</th>\n",
       "      <td>24</td>\n",
       "      <td>877</td>\n",
       "      <td>41</td>\n",
       "      <td>65</td>\n",
       "      <td>159</td>\n",
       "      <td>2018-06-01</td>\n",
       "    </tr>\n",
       "    <tr>\n",
       "      <th>1</th>\n",
       "      <td>3</td>\n",
       "      <td>27</td>\n",
       "      <td>1</td>\n",
       "      <td>20</td>\n",
       "      <td>37</td>\n",
       "      <td>2018-06-02</td>\n",
       "    </tr>\n",
       "    <tr>\n",
       "      <th>2</th>\n",
       "      <td>3</td>\n",
       "      <td>0</td>\n",
       "      <td>2</td>\n",
       "      <td>5</td>\n",
       "      <td>11</td>\n",
       "      <td>2018-06-03</td>\n",
       "    </tr>\n",
       "    <tr>\n",
       "      <th>3</th>\n",
       "      <td>31</td>\n",
       "      <td>20</td>\n",
       "      <td>7</td>\n",
       "      <td>23</td>\n",
       "      <td>16</td>\n",
       "      <td>2018-06-04</td>\n",
       "    </tr>\n",
       "    <tr>\n",
       "      <th>4</th>\n",
       "      <td>98</td>\n",
       "      <td>18</td>\n",
       "      <td>1</td>\n",
       "      <td>154</td>\n",
       "      <td>20</td>\n",
       "      <td>2018-06-05</td>\n",
       "    </tr>\n",
       "  </tbody>\n",
       "</table>\n",
       "</div>"
      ],
      "text/plain": [
       "   Jumlah Berita Label 0  Jumlah Berita Label 1  Jumlah Berita Label 2  \\\n",
       "0                     24                    877                     41   \n",
       "1                      3                     27                      1   \n",
       "2                      3                      0                      2   \n",
       "3                     31                     20                      7   \n",
       "4                     98                     18                      1   \n",
       "\n",
       "   Jumlah Berita Label 3  Jumlah Berita Label 4    Tanggal  \n",
       "0                     65                    159 2018-06-01  \n",
       "1                     20                     37 2018-06-02  \n",
       "2                      5                     11 2018-06-03  \n",
       "3                     23                     16 2018-06-04  \n",
       "4                    154                     20 2018-06-05  "
      ]
     },
     "execution_count": 2,
     "metadata": {},
     "output_type": "execute_result"
    }
   ],
   "source": [
    "eksposur.head()"
   ]
  },
  {
   "cell_type": "markdown",
   "metadata": {},
   "source": [
    "Keterangan\n",
    "* Label 0 : Global Warning\n",
    "* Label 1 : Penyebab Alami\n",
    "* Label 2 : Perubahan Iklim\n",
    "* Label 3 : Mitigasi\n",
    "* Lebel 4 : Penyakit"
   ]
  },
  {
   "cell_type": "code",
   "execution_count": 3,
   "metadata": {},
   "outputs": [
    {
     "data": {
      "text/plain": [
       "Index(['Jumlah Berita Label 0', 'Jumlah Berita Label 1',\n",
       "       'Jumlah Berita Label 2', 'Jumlah Berita Label 3',\n",
       "       'Jumlah Berita Label 4', 'Tanggal'],\n",
       "      dtype='object')"
      ]
     },
     "execution_count": 3,
     "metadata": {},
     "output_type": "execute_result"
    }
   ],
   "source": [
    "eksposur.columns"
   ]
  },
  {
   "cell_type": "code",
   "execution_count": 4,
   "metadata": {},
   "outputs": [
    {
     "data": {
      "text/html": [
       "<div>\n",
       "<style scoped>\n",
       "    .dataframe tbody tr th:only-of-type {\n",
       "        vertical-align: middle;\n",
       "    }\n",
       "\n",
       "    .dataframe tbody tr th {\n",
       "        vertical-align: top;\n",
       "    }\n",
       "\n",
       "    .dataframe thead th {\n",
       "        text-align: right;\n",
       "    }\n",
       "</style>\n",
       "<table border=\"1\" class=\"dataframe\">\n",
       "  <thead>\n",
       "    <tr style=\"text-align: right;\">\n",
       "      <th></th>\n",
       "      <th>Jumlah Berita Label 0</th>\n",
       "      <th>Jumlah Berita Label 1</th>\n",
       "      <th>Jumlah Berita Label 2</th>\n",
       "      <th>Jumlah Berita Label 3</th>\n",
       "      <th>Jumlah Berita Label 4</th>\n",
       "    </tr>\n",
       "  </thead>\n",
       "  <tbody>\n",
       "    <tr>\n",
       "      <th>count</th>\n",
       "      <td>137.000000</td>\n",
       "      <td>137.000000</td>\n",
       "      <td>137.000000</td>\n",
       "      <td>137.000000</td>\n",
       "      <td>137.000000</td>\n",
       "    </tr>\n",
       "    <tr>\n",
       "      <th>mean</th>\n",
       "      <td>58.372263</td>\n",
       "      <td>182.540146</td>\n",
       "      <td>33.306569</td>\n",
       "      <td>61.671533</td>\n",
       "      <td>122.233577</td>\n",
       "    </tr>\n",
       "    <tr>\n",
       "      <th>std</th>\n",
       "      <td>60.328391</td>\n",
       "      <td>503.557798</td>\n",
       "      <td>33.237019</td>\n",
       "      <td>52.700891</td>\n",
       "      <td>412.169355</td>\n",
       "    </tr>\n",
       "    <tr>\n",
       "      <th>min</th>\n",
       "      <td>0.000000</td>\n",
       "      <td>0.000000</td>\n",
       "      <td>0.000000</td>\n",
       "      <td>0.000000</td>\n",
       "      <td>0.000000</td>\n",
       "    </tr>\n",
       "    <tr>\n",
       "      <th>25%</th>\n",
       "      <td>20.000000</td>\n",
       "      <td>1.000000</td>\n",
       "      <td>11.000000</td>\n",
       "      <td>23.000000</td>\n",
       "      <td>12.000000</td>\n",
       "    </tr>\n",
       "    <tr>\n",
       "      <th>50%</th>\n",
       "      <td>46.000000</td>\n",
       "      <td>12.000000</td>\n",
       "      <td>21.000000</td>\n",
       "      <td>50.000000</td>\n",
       "      <td>30.000000</td>\n",
       "    </tr>\n",
       "    <tr>\n",
       "      <th>75%</th>\n",
       "      <td>69.000000</td>\n",
       "      <td>134.000000</td>\n",
       "      <td>48.000000</td>\n",
       "      <td>79.000000</td>\n",
       "      <td>67.000000</td>\n",
       "    </tr>\n",
       "    <tr>\n",
       "      <th>max</th>\n",
       "      <td>449.000000</td>\n",
       "      <td>4916.000000</td>\n",
       "      <td>190.000000</td>\n",
       "      <td>302.000000</td>\n",
       "      <td>3690.000000</td>\n",
       "    </tr>\n",
       "  </tbody>\n",
       "</table>\n",
       "</div>"
      ],
      "text/plain": [
       "       Jumlah Berita Label 0  Jumlah Berita Label 1  Jumlah Berita Label 2  \\\n",
       "count             137.000000             137.000000             137.000000   \n",
       "mean               58.372263             182.540146              33.306569   \n",
       "std                60.328391             503.557798              33.237019   \n",
       "min                 0.000000               0.000000               0.000000   \n",
       "25%                20.000000               1.000000              11.000000   \n",
       "50%                46.000000              12.000000              21.000000   \n",
       "75%                69.000000             134.000000              48.000000   \n",
       "max               449.000000            4916.000000             190.000000   \n",
       "\n",
       "       Jumlah Berita Label 3  Jumlah Berita Label 4  \n",
       "count             137.000000             137.000000  \n",
       "mean               61.671533             122.233577  \n",
       "std                52.700891             412.169355  \n",
       "min                 0.000000               0.000000  \n",
       "25%                23.000000              12.000000  \n",
       "50%                50.000000              30.000000  \n",
       "75%                79.000000              67.000000  \n",
       "max               302.000000            3690.000000  "
      ]
     },
     "execution_count": 4,
     "metadata": {},
     "output_type": "execute_result"
    }
   ],
   "source": [
    "eksposur.describe()"
   ]
  },
  {
   "cell_type": "code",
   "execution_count": 5,
   "metadata": {},
   "outputs": [
    {
     "name": "stdout",
     "output_type": "stream",
     "text": [
      "<class 'pandas.core.frame.DataFrame'>\n",
      "RangeIndex: 137 entries, 0 to 136\n",
      "Data columns (total 6 columns):\n",
      "Jumlah Berita Label 0    137 non-null int64\n",
      "Jumlah Berita Label 1    137 non-null int64\n",
      "Jumlah Berita Label 2    137 non-null int64\n",
      "Jumlah Berita Label 3    137 non-null int64\n",
      "Jumlah Berita Label 4    137 non-null int64\n",
      "Tanggal                  137 non-null datetime64[ns]\n",
      "dtypes: datetime64[ns](1), int64(5)\n",
      "memory usage: 6.5 KB\n"
     ]
    }
   ],
   "source": [
    "eksposur.info()"
   ]
  },
  {
   "cell_type": "markdown",
   "metadata": {},
   "source": [
    "Research Question\n",
    "1. Faktor apa yang paling berpengaruh terhadap perubahan iklim di Indonesia?\n",
    "2. Apakah perubahan iklim mempengaruhi penyakit?\n",
    "3. Apa faktor yang paling berpengaruh dalam perubahan iklim yang dapat mempengaruhi timbulnya penyakit?\n",
    "4. Apa jenis penyakit yang sering muncul akibat perubahan iklim?\n",
    "5. Bagaimana prediksi pengaruh perubahan iklim terhadap penyakit?\n",
    "6. Apa langkah yang sebaiknya dilakukan sebagai tindak lanjut dari hasil prediksi yang telah dilakukan?"
   ]
  },
  {
   "cell_type": "markdown",
   "metadata": {},
   "source": [
    "## Pengecekan data yang hilang\n",
    "\n",
    "Sebelum melakukan analisis data, dilakukan pengecekan data apakah terdapat missing value (data hilang) atau tidak. Data yang tidak lengkap akan menyebabkan akurasi analisis yang kurang baik."
   ]
  },
  {
   "cell_type": "code",
   "execution_count": 6,
   "metadata": {},
   "outputs": [
    {
     "data": {
      "text/html": [
       "<div>\n",
       "<style scoped>\n",
       "    .dataframe tbody tr th:only-of-type {\n",
       "        vertical-align: middle;\n",
       "    }\n",
       "\n",
       "    .dataframe tbody tr th {\n",
       "        vertical-align: top;\n",
       "    }\n",
       "\n",
       "    .dataframe thead th {\n",
       "        text-align: right;\n",
       "    }\n",
       "</style>\n",
       "<table border=\"1\" class=\"dataframe\">\n",
       "  <thead>\n",
       "    <tr style=\"text-align: right;\">\n",
       "      <th></th>\n",
       "      <th>Tanggal</th>\n",
       "      <th>Jumlah Berita Label 4</th>\n",
       "      <th>Jumlah Berita Label 3</th>\n",
       "      <th>Jumlah Berita Label 2</th>\n",
       "      <th>Jumlah Berita Label 1</th>\n",
       "      <th>Jumlah Berita Label 0</th>\n",
       "    </tr>\n",
       "  </thead>\n",
       "  <tbody>\n",
       "    <tr>\n",
       "      <th>Total</th>\n",
       "      <td>0.0</td>\n",
       "      <td>0.0</td>\n",
       "      <td>0.0</td>\n",
       "      <td>0.0</td>\n",
       "      <td>0.0</td>\n",
       "      <td>0.0</td>\n",
       "    </tr>\n",
       "    <tr>\n",
       "      <th>Percent</th>\n",
       "      <td>0.0</td>\n",
       "      <td>0.0</td>\n",
       "      <td>0.0</td>\n",
       "      <td>0.0</td>\n",
       "      <td>0.0</td>\n",
       "      <td>0.0</td>\n",
       "    </tr>\n",
       "  </tbody>\n",
       "</table>\n",
       "</div>"
      ],
      "text/plain": [
       "         Tanggal  Jumlah Berita Label 4  Jumlah Berita Label 3  \\\n",
       "Total        0.0                    0.0                    0.0   \n",
       "Percent      0.0                    0.0                    0.0   \n",
       "\n",
       "         Jumlah Berita Label 2  Jumlah Berita Label 1  Jumlah Berita Label 0  \n",
       "Total                      0.0                    0.0                    0.0  \n",
       "Percent                    0.0                    0.0                    0.0  "
      ]
     },
     "execution_count": 6,
     "metadata": {},
     "output_type": "execute_result"
    }
   ],
   "source": [
    "total = eksposur.isnull().sum().sort_values(ascending = False)\n",
    "percent = (eksposur.isnull().sum()/eksposur.isnull().count()*100).sort_values(ascending = False)\n",
    "pd.concat([total, percent], axis=1, keys=['Total', 'Percent']).transpose()"
   ]
  },
  {
   "cell_type": "markdown",
   "metadata": {},
   "source": [
    "Berdasarkan pengecekan yang telah dilakukan jelas bahwa data lengkap (tidak ada missing value)"
   ]
  },
  {
   "cell_type": "markdown",
   "metadata": {},
   "source": [
    "## Plot Data"
   ]
  },
  {
   "cell_type": "code",
   "execution_count": 7,
   "metadata": {},
   "outputs": [],
   "source": [
    "import matplotlib.pyplot as plt\n",
    "import seaborn as sns\n",
    "%matplotlib inline"
   ]
  },
  {
   "cell_type": "code",
   "execution_count": 8,
   "metadata": {},
   "outputs": [
    {
     "data": {
      "text/plain": [
       "[<matplotlib.lines.Line2D at 0x56285f0>]"
      ]
     },
     "execution_count": 8,
     "metadata": {},
     "output_type": "execute_result"
    },
    {
     "data": {
      "image/png": "[encoded data removed]",
      "text/plain": [
       "<Figure size 432x288 with 1 Axes>"
      ]
     },
     "metadata": {
      "needs_background": "light"
     },
     "output_type": "display_data"
    }
   ],
   "source": [
    "plt.plot(eksposur['Tanggal'], eksposur['Jumlah Berita Label 0'])\n",
    "plt.plot(eksposur['Tanggal'], eksposur['Jumlah Berita Label 1'])\n",
    "plt.plot(eksposur['Tanggal'], eksposur['Jumlah Berita Label 2'])\n",
    "plt.plot(eksposur['Tanggal'], eksposur['Jumlah Berita Label 3'])\n",
    "plt.plot(eksposur['Tanggal'], eksposur['Jumlah Berita Label 4'])"
   ]
  },
  {
   "cell_type": "markdown",
   "metadata": {},
   "source": [
    "## Korelasi"
   ]
  },
  {
   "cell_type": "markdown",
   "metadata": {},
   "source": [
    "Untuk melihat apakah variabel satu mempengaruhi variabel lain perlu dilihat korelasinya."
   ]
  },
  {
   "cell_type": "code",
   "execution_count": 9,
   "metadata": {},
   "outputs": [
    {
     "data": {
      "image/png": "[encoded data removed]",
      "text/plain": [
       "<Figure size 576x576 with 2 Axes>"
      ]
     },
     "metadata": {
      "needs_background": "light"
     },
     "output_type": "display_data"
    }
   ],
   "source": [
    "var = ['Jumlah Berita Label 0', 'Jumlah Berita Label 1', 'Jumlah Berita Label 2', 'Jumlah Berita Label 3', 'Jumlah Berita Label 4']\n",
    "\n",
    "plt.figure(figsize = (8,8))\n",
    "plt.title('Korelasi antar Variabel')\n",
    "corr = eksposur[var].corr()\n",
    "sns.heatmap(corr,xticklabels=corr.columns,yticklabels=corr.columns,linewidths=.1,vmin=-1, vmax=1)\n",
    "plt.show()"
   ]
  },
  {
   "cell_type": "markdown",
   "metadata": {},
   "source": [
    "Berdasarkan plot korelasi nampak bahwa terdapat\n",
    "1. Korelasi Tinggi Positif : Label 1 dengan label 4\n",
    "2. Korelasi Rendah Positif : Label 0 dengan label 1, Label 0 dengan label 4, Label 1 dengan label 2, Label 2 dengan label 3\n",
    "3. Tidak ada Korelasi      : - \n",
    "4. Korelasi Tinggi Negatif : -\n",
    "5. Korelasi Rendah Negatif : Label 1 dengan label 3, Label 3 dengan label 4"
   ]
  },
  {
   "cell_type": "code",
   "execution_count": 10,
   "metadata": {},
   "outputs": [
    {
     "data": {
      "text/html": [
       "<div>\n",
       "<style scoped>\n",
       "    .dataframe tbody tr th:only-of-type {\n",
       "        vertical-align: middle;\n",
       "    }\n",
       "\n",
       "    .dataframe tbody tr th {\n",
       "        vertical-align: top;\n",
       "    }\n",
       "\n",
       "    .dataframe thead th {\n",
       "        text-align: right;\n",
       "    }\n",
       "</style>\n",
       "<table border=\"1\" class=\"dataframe\">\n",
       "  <thead>\n",
       "    <tr style=\"text-align: right;\">\n",
       "      <th></th>\n",
       "      <th>Jumlah Berita Label 0</th>\n",
       "      <th>Jumlah Berita Label 1</th>\n",
       "      <th>Jumlah Berita Label 2</th>\n",
       "      <th>Jumlah Berita Label 3</th>\n",
       "      <th>Jumlah Berita Label 4</th>\n",
       "    </tr>\n",
       "  </thead>\n",
       "  <tbody>\n",
       "    <tr>\n",
       "      <th>Jumlah Berita Label 0</th>\n",
       "      <td>1.000000</td>\n",
       "      <td>0.263155</td>\n",
       "      <td>0.279999</td>\n",
       "      <td>0.357179</td>\n",
       "      <td>0.410098</td>\n",
       "    </tr>\n",
       "    <tr>\n",
       "      <th>Jumlah Berita Label 1</th>\n",
       "      <td>0.263155</td>\n",
       "      <td>1.000000</td>\n",
       "      <td>0.152019</td>\n",
       "      <td>-0.087407</td>\n",
       "      <td>0.761291</td>\n",
       "    </tr>\n",
       "    <tr>\n",
       "      <th>Jumlah Berita Label 2</th>\n",
       "      <td>0.279999</td>\n",
       "      <td>0.152019</td>\n",
       "      <td>1.000000</td>\n",
       "      <td>0.454847</td>\n",
       "      <td>0.105151</td>\n",
       "    </tr>\n",
       "    <tr>\n",
       "      <th>Jumlah Berita Label 3</th>\n",
       "      <td>0.357179</td>\n",
       "      <td>-0.087407</td>\n",
       "      <td>0.454847</td>\n",
       "      <td>1.000000</td>\n",
       "      <td>-0.065686</td>\n",
       "    </tr>\n",
       "    <tr>\n",
       "      <th>Jumlah Berita Label 4</th>\n",
       "      <td>0.410098</td>\n",
       "      <td>0.761291</td>\n",
       "      <td>0.105151</td>\n",
       "      <td>-0.065686</td>\n",
       "      <td>1.000000</td>\n",
       "    </tr>\n",
       "  </tbody>\n",
       "</table>\n",
       "</div>"
      ],
      "text/plain": [
       "                       Jumlah Berita Label 0  Jumlah Berita Label 1  \\\n",
       "Jumlah Berita Label 0               1.000000               0.263155   \n",
       "Jumlah Berita Label 1               0.263155               1.000000   \n",
       "Jumlah Berita Label 2               0.279999               0.152019   \n",
       "Jumlah Berita Label 3               0.357179              -0.087407   \n",
       "Jumlah Berita Label 4               0.410098               0.761291   \n",
       "\n",
       "                       Jumlah Berita Label 2  Jumlah Berita Label 3  \\\n",
       "Jumlah Berita Label 0               0.279999               0.357179   \n",
       "Jumlah Berita Label 1               0.152019              -0.087407   \n",
       "Jumlah Berita Label 2               1.000000               0.454847   \n",
       "Jumlah Berita Label 3               0.454847               1.000000   \n",
       "Jumlah Berita Label 4               0.105151              -0.065686   \n",
       "\n",
       "                       Jumlah Berita Label 4  \n",
       "Jumlah Berita Label 0               0.410098  \n",
       "Jumlah Berita Label 1               0.761291  \n",
       "Jumlah Berita Label 2               0.105151  \n",
       "Jumlah Berita Label 3              -0.065686  \n",
       "Jumlah Berita Label 4               1.000000  "
      ]
     },
     "execution_count": 10,
     "metadata": {},
     "output_type": "execute_result"
    }
   ],
   "source": [
    "eksposur.corr()"
   ]
  },
  {
   "cell_type": "markdown",
   "metadata": {},
   "source": [
    "Sehingga yang dapat digunakan untuk analisis adalah\n",
    "1. Variabe Target : Label 4, Variabel Predictor : Label 0, 1."
   ]
  },
  {
   "cell_type": "markdown",
   "metadata": {},
   "source": [
    "## Analisis Data Menggunakan Random Forest Classifier"
   ]
  },
  {
   "cell_type": "code",
   "execution_count": 12,
   "metadata": {},
   "outputs": [],
   "source": [
    "import gc\n",
    "from datetime import datetime\n",
    "from sklearn.model_selection import train_test_split\n",
    "from sklearn.model_selection import KFold\n",
    "from sklearn.metrics import roc_auc_score\n",
    "from sklearn.ensemble import RandomForestClassifier\n",
    "\n",
    "pd.set_option('display.max_columns', 100)"
   ]
  },
  {
   "cell_type": "code",
   "execution_count": 13,
   "metadata": {},
   "outputs": [],
   "source": [
    "df = eksposur"
   ]
  },
  {
   "cell_type": "code",
   "execution_count": 14,
   "metadata": {},
   "outputs": [],
   "source": [
    "RFC_METRIC = 'gini'  #metric used for RandomForrestClassifier\n",
    "NUM_ESTIMATORS = 100 #number of estimators used for RandomForrestClassifier\n",
    "NO_JOBS = 4 #number of parallel jobs used for RandomForrestClassifier\n",
    "\n",
    "#VALIDATION\n",
    "VALID_SIZE = 0.20 # simple validation using train_test_split\n",
    "\n",
    "#CROSS-VALIDATION\n",
    "NUMBER_KFOLDS = 5 #number of KFolds for cross-validation\n",
    "\n",
    "RANDOM_STATE = 2018\n",
    "\n",
    "MAX_ROUNDS = 1000 #lgb iterations\n",
    "EARLY_STOP = 50 #lgb early stop \n",
    "OPT_ROUNDS = 1000  #To be adjusted based on best validation rounds\n",
    "VERBOSE_EVAL = 50 #Print out metric result"
   ]
  },
  {
   "cell_type": "markdown",
   "metadata": {},
   "source": [
    "### Menentukan variabel prediktor dan variabel target"
   ]
  },
  {
   "cell_type": "code",
   "execution_count": 15,
   "metadata": {},
   "outputs": [],
   "source": [
    "target = 'Jumlah Berita Label 4'\n",
    "predictors = ['Jumlah Berita Label 1', 'Jumlah Berita Label 0']"
   ]
  },
  {
   "cell_type": "markdown",
   "metadata": {},
   "source": [
    "### Split data pada train (data pelatihan) and validation set"
   ]
  },
  {
   "cell_type": "code",
   "execution_count": 16,
   "metadata": {},
   "outputs": [],
   "source": [
    "train_df, val_df = train_test_split(df, test_size=VALID_SIZE, random_state=RANDOM_STATE, shuffle=True)"
   ]
  },
  {
   "cell_type": "markdown",
   "metadata": {},
   "source": [
    "Buat salinan dari train_df dan val_df untuk digunakan nanti."
   ]
  },
  {
   "cell_type": "code",
   "execution_count": 17,
   "metadata": {},
   "outputs": [],
   "source": [
    "train_df_bkp = train_df.copy()\n",
    "val_df_bkp = val_df.copy()"
   ]
  },
  {
   "cell_type": "markdown",
   "metadata": {},
   "source": [
    "### Klasifikasi Random Forest\n",
    "\n",
    "Jalankan model menggunakan data pelatihan untuk pelatihan. Kemudian melakukan validasi menggunakan set validasi.\n",
    "\n",
    "Kriteria validasi GINI yang digunakan adalah GINI = 2 * (AUC) - 1, di mana AUC adalah Karakteristik Operasi Penerima - Area Under Curve (ROC-AUC). Jumlah estimator diatur ke 100 dan jumlah pekerjaan paralel diatur ke 4.\n",
    "\n",
    "Langkah awal dilakukan inisialisasi RandomForestClassifier."
   ]
  },
  {
   "cell_type": "code",
   "execution_count": 18,
   "metadata": {},
   "outputs": [],
   "source": [
    "clf = RandomForestClassifier(n_jobs=NO_JOBS, \n",
    "                             random_state=RANDOM_STATE,\n",
    "                             criterion=RFC_METRIC,\n",
    "                             n_estimators=NUM_ESTIMATORS,\n",
    "                             verbose=False)"
   ]
  },
  {
   "cell_type": "markdown",
   "metadata": {},
   "source": [
    "Latih RandonForestClassifier menggunakan data train_df dan fit function."
   ]
  },
  {
   "cell_type": "code",
   "execution_count": 19,
   "metadata": {},
   "outputs": [
    {
     "data": {
      "text/plain": [
       "RandomForestClassifier(bootstrap=True, class_weight=None, criterion='gini',\n",
       "            max_depth=None, max_features='auto', max_leaf_nodes=None,\n",
       "            min_impurity_decrease=0.0, min_impurity_split=None,\n",
       "            min_samples_leaf=1, min_samples_split=2,\n",
       "            min_weight_fraction_leaf=0.0, n_estimators=100, n_jobs=4,\n",
       "            oob_score=False, random_state=2018, verbose=False,\n",
       "            warm_start=False)"
      ]
     },
     "execution_count": 19,
     "metadata": {},
     "output_type": "execute_result"
    }
   ],
   "source": [
    "clf.fit(train_df[predictors], train_df[target].values)"
   ]
  },
  {
   "cell_type": "markdown",
   "metadata": {},
   "source": [
    "Prediksi nilai target untuk data val_df, menggunakan fungsi prediksi."
   ]
  },
  {
   "cell_type": "code",
   "execution_count": 20,
   "metadata": {},
   "outputs": [],
   "source": [
    "preds = clf.predict(val_df[predictors])"
   ]
  },
  {
   "cell_type": "markdown",
   "metadata": {},
   "source": [
    "### Features importance"
   ]
  },
  {
   "cell_type": "code",
   "execution_count": 21,
   "metadata": {},
   "outputs": [
    {
     "data": {
      "image/png": "[encoded data removed]",
      "text/plain": [
       "<Figure size 504x288 with 1 Axes>"
      ]
     },
     "metadata": {
      "needs_background": "light"
     },
     "output_type": "display_data"
    }
   ],
   "source": [
    "tmp = pd.DataFrame({'Feature': predictors, 'Feature importance': clf.feature_importances_})\n",
    "tmp = tmp.sort_values(by='Feature importance',ascending=False)\n",
    "plt.figure(figsize = (7,4))\n",
    "plt.title('Features importance',fontsize=14)\n",
    "s = sns.barplot(x='Feature',y='Feature importance',data=tmp)\n",
    "s.set_xticklabels(s.get_xticklabels(),rotation=90)\n",
    "plt.show()"
   ]
  },
  {
   "cell_type": "markdown",
   "metadata": {},
   "source": [
    "Features/variabel yang paling penting adalah Label 0."
   ]
  },
  {
   "cell_type": "markdown",
   "metadata": {},
   "source": [
    "### Confusion matrix\n",
    "\n",
    "Confusion matrix adalah suatu metode yang biasanya digunakan untuk melakukan perhitungan akurasi pada konsep data mining."
   ]
  },
  {
   "cell_type": "code",
   "execution_count": 22,
   "metadata": {},
   "outputs": [
    {
     "data": {
      "image/png": "[encoded data removed]",
      "text/plain": [
       "<Figure size 360x360 with 2 Axes>"
      ]
     },
     "metadata": {
      "needs_background": "light"
     },
     "output_type": "display_data"
    }
   ],
   "source": [
    "cm = pd.crosstab(val_df[target].values, preds, rownames=['Actual'], colnames=['Predicted'])\n",
    "fig, (ax1) = plt.subplots(ncols=1, figsize=(5,5))\n",
    "sns.heatmap(cm, \n",
    "            xticklabels=['Not Default', 'Default'],\n",
    "            yticklabels=['Not Default', 'Default'],\n",
    "            annot=True,ax=ax1,\n",
    "            linewidths=.2,linecolor=\"Darkblue\", cmap=\"Blues\")\n",
    "plt.title('Confusion Matrix', fontsize=14)\n",
    "plt.show()"
   ]
  },
  {
   "cell_type": "markdown",
   "metadata": {},
   "source": [
    "Nampak bahwa banyak hasil prediksi yang salah, artinya klasifikasi random forest kurang baik digunakan."
   ]
  },
  {
   "cell_type": "code",
   "execution_count": null,
   "metadata": {},
   "outputs": [],
   "source": [
    "roc_auc_score(val_df[target].values, preds)"
   ]
  },
  {
   "cell_type": "markdown",
   "metadata": {},
   "source": [
    "## Analisis Data Menggunakan Regresi"
   ]
  },
  {
   "cell_type": "code",
   "execution_count": 23,
   "metadata": {},
   "outputs": [],
   "source": [
    "import scipy.stats as stats\n",
    "from sklearn import linear_model"
   ]
  },
  {
   "cell_type": "code",
   "execution_count": 24,
   "metadata": {},
   "outputs": [
    {
     "data": {
      "text/plain": [
       "Index(['Jumlah Berita Label 0', 'Jumlah Berita Label 1',\n",
       "       'Jumlah Berita Label 2', 'Jumlah Berita Label 3',\n",
       "       'Jumlah Berita Label 4', 'Tanggal'],\n",
       "      dtype='object')"
      ]
     },
     "execution_count": 24,
     "metadata": {},
     "output_type": "execute_result"
    }
   ],
   "source": [
    "df.columns"
   ]
  },
  {
   "cell_type": "code",
   "execution_count": 25,
   "metadata": {},
   "outputs": [],
   "source": [
    "X = df['Jumlah Berita Label 4']\n",
    "Y = df['Jumlah Berita Label 1']\n",
    "\n",
    "X=X.values.reshape(len(X),1)\n",
    "Y=Y.values.reshape(len(Y),1)"
   ]
  },
  {
   "cell_type": "code",
   "execution_count": 27,
   "metadata": {},
   "outputs": [
    {
     "data": {
      "text/plain": [
       "(37, 1)"
      ]
     },
     "execution_count": 27,
     "metadata": {},
     "output_type": "execute_result"
    }
   ],
   "source": [
    "# Split data menjadi training/testing sets\n",
    "X_train = X[:-100]\n",
    "X_test = X[-37:]\n",
    " \n",
    "# Split targets menjadi training/testing sets\n",
    "Y_train = Y[:-100]\n",
    "Y_test = Y[-37:]\n",
    "X_train.shape"
   ]
  },
  {
   "cell_type": "code",
   "execution_count": 28,
   "metadata": {},
   "outputs": [
    {
     "data": {
      "image/png": "[encoded data removed]",
      "text/plain": [
       "<Figure size 432x288 with 1 Axes>"
      ]
     },
     "metadata": {},
     "output_type": "display_data"
    }
   ],
   "source": [
    "# Scatter plot\n",
    "plt.scatter(X_test, Y_test,  color='black')\n",
    "plt.title('Test Data')\n",
    "plt.xlabel('Label 4')\n",
    "plt.ylabel('Label 1')\n",
    "plt.xticks(())\n",
    "plt.yticks(())\n",
    " \n",
    "plt.show()"
   ]
  },
  {
   "cell_type": "code",
   "execution_count": 29,
   "metadata": {},
   "outputs": [
    {
     "data": {
      "image/png": "[encoded data removed]",
      "text/plain": [
       "<Figure size 432x288 with 1 Axes>"
      ]
     },
     "metadata": {
      "needs_background": "light"
     },
     "output_type": "display_data"
    }
   ],
   "source": [
    "# Membuat obyek regresi linear\n",
    "regr = linear_model.LinearRegression()\n",
    " \n",
    "# Train model menggunakan training sets\n",
    "regr.fit(X_train, Y_train)\n",
    " \n",
    "# Plot outputs\n",
    "plt.scatter(X_test, Y_test,  color='black')\n",
    "plt.title('Regresi Linier')\n",
    "plt.xlabel('Label 4')\n",
    "plt.ylabel('Label 1')\n",
    "\n",
    "plt.plot(X_test, regr.predict(X_test), color='red',linewidth=3)\n",
    "plt.axis([0, 170, 0, 1000])\n",
    "plt.show()"
   ]
  },
  {
   "cell_type": "code",
   "execution_count": 31,
   "metadata": {},
   "outputs": [
    {
     "name": "stdout",
     "output_type": "stream",
     "text": [
      "[[102.84762977]]\n"
     ]
    }
   ],
   "source": [
    "print(regr.predict(11))"
   ]
  }
 ],
 "metadata": {
  "kernelspec": {
   "display_name": "Python 3",
   "language": "python",
   "name": "python3"
  },
  "language_info": {
   "codemirror_mode": {
    "name": "ipython",
    "version": 3
   },
   "file_extension": ".py",
   "mimetype": "text/x-python",
   "name": "python",
   "nbconvert_exporter": "python",
   "pygments_lexer": "ipython3",
   "version": "3.7.0"
  }
 },
 "nbformat": 4,
 "nbformat_minor": 2
}
