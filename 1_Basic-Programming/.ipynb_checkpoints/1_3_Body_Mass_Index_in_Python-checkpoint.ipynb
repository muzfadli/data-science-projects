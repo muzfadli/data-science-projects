{
 "cells": [
  {
   "cell_type": "markdown",
   "metadata": {},
   "source": [
    "# Body Mass Index (BMI) Program"
   ]
  },
  {
   "cell_type": "markdown",
   "metadata": {},
   "source": [
    "The body mass index (BMI) or Quetelet index is a value derived from the mass (weight) and height of an individual. The BMI is defined as the body mass divided by the square of the body height, and is universally expressed in units of kg/m2, resulting from mass in kilograms and height in metres.\n",
    "\n",
    "The BMI may also be determined using a table or chart which displays BMI as a function of mass and height using contour lines or colours for different BMI categories, and which may use other units of measurement (converted to metric units for the calculation).\n",
    "\n",
    "The BMI is an attempt to quantify the amount of tissue mass (muscle, fat, and bone) in an individual, and then categorize that person as underweight, normal weight, overweight, or obese based on that value. That categorization is the subject of some debate about where on the BMI scale the dividing lines between categories should be placed.Commonly accepted BMI ranges are underweight: under 18.5 kg/m2, normal weight: 18.5 to 25, overweight: 25 to 30, obese: over 30.\n",
    "\n",
    "BMIs under 20.0 and over 25.0 have been associated with higher all-cause mortality, increasing risk with distance from the 20.0-25.0 range. The prevalence of overweight and obesity is the highest in the Americas and lowest in South East Asia. The prevalence of overweight and obesity in high income and upper middle income countries is more than double that of low and lower middle income countries.\n",
    "\n",
    "Source: https://en.wikipedia.org/wiki/Body_mass_index"
   ]
  },
  {
   "cell_type": "markdown",
   "metadata": {},
   "source": [
    "below is a simple BMI program built in python"
   ]
  },
  {
   "cell_type": "code",
   "execution_count": 5,
   "metadata": {},
   "outputs": [
    {
     "name": "stdout",
     "output_type": "stream",
     "text": [
      "Enter height in centimeters : 165\n",
      "Enter weight in kg          : 50\n",
      "Your BMI is : 18.36547291092746 and you are : Underweight\n"
     ]
    }
   ],
   "source": [
    "# Program with input\n",
    "\n",
    "height = float(input(\"Enter height in centimeters : \"))\n",
    "weight = float(input(\"Enter weight in kg          : \"))\n",
    "height2 = height/100\n",
    "\n",
    "# bmi formula\n",
    "bmi = weight/(height2**2) \n",
    "\n",
    "print(\"Your BMI is : {0} and you are : \".format(bmi), end='')\n",
    "\n",
    "# condition\n",
    "if ( bmi < 15):\n",
    "   print(\"Very severely underweight\")\n",
    "\n",
    "elif ( bmi >= 15 and bmi < 16):\n",
    "   print(\"Severely underweight\")\n",
    "\n",
    "elif ( bmi >= 16 and bmi < 18.5):\n",
    "   print(\"Underweight\")\n",
    "\n",
    "elif ( bmi >= 18.5 and bmi < 25):\n",
    "   print(\"Normal (healthy weight)\")\n",
    "\n",
    "elif ( bmi >= 25 and bmi < 30):\n",
    "   print(\"Overweight\")\n",
    "\n",
    "elif ( bmi >= 30 and bmi < 35):\n",
    "   print(\"Moderately obese\")\n",
    "\n",
    "elif ( bmi >= 35 and bmi < 40):\n",
    "   print(\"Severely obese\")\n",
    "\n",
    "else:\n",
    "   print(\"Very severely obese\")"
   ]
  }
 ],
 "metadata": {
  "kernelspec": {
   "display_name": "Python 3",
   "language": "python",
   "name": "python3"
  },
  "language_info": {
   "codemirror_mode": {
    "name": "ipython",
    "version": 3
   },
   "file_extension": ".py",
   "mimetype": "text/x-python",
   "name": "python",
   "nbconvert_exporter": "python",
   "pygments_lexer": "ipython3",
   "version": "3.7.0"
  }
 },
 "nbformat": 4,
 "nbformat_minor": 2
}
