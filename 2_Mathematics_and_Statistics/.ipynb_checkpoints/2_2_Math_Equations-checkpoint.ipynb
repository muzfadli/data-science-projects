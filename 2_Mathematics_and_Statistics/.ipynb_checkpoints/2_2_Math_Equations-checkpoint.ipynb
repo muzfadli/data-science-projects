{
 "cells": [
  {
   "cell_type": "markdown",
   "metadata": {},
   "source": [
    "# Getting Started with Equations\n",
    "Equations are calculations in which one or more variables represent unknown values."
   ]
  },
  {
   "cell_type": "markdown",
   "metadata": {},
   "source": [
    "Consider the following equation:\n",
    "\n",
    "\\begin{equation}x + 16 = 14\\end{equation}\n",
    "\n",
    "The equation using one variable. In this case, we need to get *x* onto one side of the \"=\" sign, and all of the other values onto the other side. The equation can be same with this one\n",
    "\n",
    "\\begin{equation}x + 16 - 16 = 14 - 16\\end{equation}\n",
    "\n",
    "on the left side, 16-16=0, so we get\n",
    "\n",
    "\\begin{equation}x = 14 - 16\\end{equation}\n",
    "\n",
    "the equation is now solved with\n",
    "\n",
    "\\begin{equation}x = -2\\end{equation}\n",
    "\n",
    "It's always good practice to verify your result by plugging the variable value you've calculated into the original equation and ensuring that it holds true. We can easily do that by using some simple Python code. Use this code"
   ]
  },
  {
   "cell_type": "code",
   "execution_count": 4,
   "metadata": {},
   "outputs": [
    {
     "data": {
      "text/plain": [
       "True"
      ]
     },
     "execution_count": 4,
     "metadata": {},
     "output_type": "execute_result"
    }
   ],
   "source": [
    "x = -2\n",
    "x + 16 == 14"
   ]
  },
  {
   "cell_type": "markdown",
   "metadata": {},
   "source": [
    "Let solve another equation\n",
    "\n",
    "\\begin{equation}4y + 3 = 3x - 1 \\end{equation}\n",
    "\n",
    "The equation includes two different variables, x and y. These variables depend on one another; the value of x is determined in part by the value of y and vice-versa; so we can't solve the equation and find absolute values for both x and y. However, we can solve the equation for one of the variables and obtain a result that describes a relative relationship between the variables.\n",
    "\n",
    "First, we'll get rid of the constant on the right by adding 1 to both sides:\n",
    "\n",
    "\\begin{equation}4y = 3x - 1 - 3 \\end{equation}\n",
    "\n",
    "Then we'll use the same technique to move the constant on the left to the right:\n",
    "\n",
    "\\begin{equation}4y = 3x - 4 \\end{equation}\n",
    "\n",
    "Now we can deal with the coefficient for y by dividing both sides by 4:\n",
    "\n",
    "\\begin{equation}y = \\frac{3x - 4}{4} \\end{equation}\n",
    "\n",
    "Our equation is now solved. We've isolated y and defined it as <sup>3x-4</sup>/<sub>4</sub>\n",
    "\n",
    "While we can't express y as a particular value, we can calculate it for any value of x. For example, if x has a value of 4, then y can be calculated as:\n",
    "\n",
    "\\begin{equation}y = \\frac{3\\cdot4 - 4}{4} \\end{equation}\n",
    "\n",
    "This gives the result <sup>8</sup>/<sub>4</sub> which can be simplified to 2.\n",
    "\n",
    "We can see the values of y for a range of x values by applying the equation to them using the following Python code:"
   ]
  },
  {
   "cell_type": "code",
   "execution_count": 8,
   "metadata": {},
   "outputs": [
    {
     "data": {
      "text/html": [
       "<div>\n",
       "<style scoped>\n",
       "    .dataframe tbody tr th:only-of-type {\n",
       "        vertical-align: middle;\n",
       "    }\n",
       "\n",
       "    .dataframe tbody tr th {\n",
       "        vertical-align: top;\n",
       "    }\n",
       "\n",
       "    .dataframe thead th {\n",
       "        text-align: right;\n",
       "    }\n",
       "</style>\n",
       "<table border=\"1\" class=\"dataframe\">\n",
       "  <thead>\n",
       "    <tr style=\"text-align: right;\">\n",
       "      <th></th>\n",
       "      <th>x</th>\n",
       "      <th>y</th>\n",
       "    </tr>\n",
       "  </thead>\n",
       "  <tbody>\n",
       "    <tr>\n",
       "      <th>0</th>\n",
       "      <td>-10</td>\n",
       "      <td>-8.50</td>\n",
       "    </tr>\n",
       "    <tr>\n",
       "      <th>1</th>\n",
       "      <td>-9</td>\n",
       "      <td>-7.75</td>\n",
       "    </tr>\n",
       "    <tr>\n",
       "      <th>2</th>\n",
       "      <td>-8</td>\n",
       "      <td>-7.00</td>\n",
       "    </tr>\n",
       "    <tr>\n",
       "      <th>3</th>\n",
       "      <td>-7</td>\n",
       "      <td>-6.25</td>\n",
       "    </tr>\n",
       "    <tr>\n",
       "      <th>4</th>\n",
       "      <td>-6</td>\n",
       "      <td>-5.50</td>\n",
       "    </tr>\n",
       "    <tr>\n",
       "      <th>5</th>\n",
       "      <td>-5</td>\n",
       "      <td>-4.75</td>\n",
       "    </tr>\n",
       "    <tr>\n",
       "      <th>6</th>\n",
       "      <td>-4</td>\n",
       "      <td>-4.00</td>\n",
       "    </tr>\n",
       "    <tr>\n",
       "      <th>7</th>\n",
       "      <td>-3</td>\n",
       "      <td>-3.25</td>\n",
       "    </tr>\n",
       "    <tr>\n",
       "      <th>8</th>\n",
       "      <td>-2</td>\n",
       "      <td>-2.50</td>\n",
       "    </tr>\n",
       "    <tr>\n",
       "      <th>9</th>\n",
       "      <td>-1</td>\n",
       "      <td>-1.75</td>\n",
       "    </tr>\n",
       "    <tr>\n",
       "      <th>10</th>\n",
       "      <td>0</td>\n",
       "      <td>-1.00</td>\n",
       "    </tr>\n",
       "    <tr>\n",
       "      <th>11</th>\n",
       "      <td>1</td>\n",
       "      <td>-0.25</td>\n",
       "    </tr>\n",
       "    <tr>\n",
       "      <th>12</th>\n",
       "      <td>2</td>\n",
       "      <td>0.50</td>\n",
       "    </tr>\n",
       "    <tr>\n",
       "      <th>13</th>\n",
       "      <td>3</td>\n",
       "      <td>1.25</td>\n",
       "    </tr>\n",
       "    <tr>\n",
       "      <th>14</th>\n",
       "      <td>4</td>\n",
       "      <td>2.00</td>\n",
       "    </tr>\n",
       "    <tr>\n",
       "      <th>15</th>\n",
       "      <td>5</td>\n",
       "      <td>2.75</td>\n",
       "    </tr>\n",
       "    <tr>\n",
       "      <th>16</th>\n",
       "      <td>6</td>\n",
       "      <td>3.50</td>\n",
       "    </tr>\n",
       "    <tr>\n",
       "      <th>17</th>\n",
       "      <td>7</td>\n",
       "      <td>4.25</td>\n",
       "    </tr>\n",
       "    <tr>\n",
       "      <th>18</th>\n",
       "      <td>8</td>\n",
       "      <td>5.00</td>\n",
       "    </tr>\n",
       "    <tr>\n",
       "      <th>19</th>\n",
       "      <td>9</td>\n",
       "      <td>5.75</td>\n",
       "    </tr>\n",
       "    <tr>\n",
       "      <th>20</th>\n",
       "      <td>10</td>\n",
       "      <td>6.50</td>\n",
       "    </tr>\n",
       "  </tbody>\n",
       "</table>\n",
       "</div>"
      ],
      "text/plain": [
       "     x     y\n",
       "0  -10 -8.50\n",
       "1   -9 -7.75\n",
       "2   -8 -7.00\n",
       "3   -7 -6.25\n",
       "4   -6 -5.50\n",
       "5   -5 -4.75\n",
       "6   -4 -4.00\n",
       "7   -3 -3.25\n",
       "8   -2 -2.50\n",
       "9   -1 -1.75\n",
       "10   0 -1.00\n",
       "11   1 -0.25\n",
       "12   2  0.50\n",
       "13   3  1.25\n",
       "14   4  2.00\n",
       "15   5  2.75\n",
       "16   6  3.50\n",
       "17   7  4.25\n",
       "18   8  5.00\n",
       "19   9  5.75\n",
       "20  10  6.50"
      ]
     },
     "execution_count": 8,
     "metadata": {},
     "output_type": "execute_result"
    }
   ],
   "source": [
    "import pandas as pd\n",
    "\n",
    "# Create a dataframe with an x column containing values from -10 to 10\n",
    "df = pd.DataFrame ({'x': range(-10, 11)})\n",
    "\n",
    "# Add a y column by applying the solved equation to x\n",
    "df['y'] = (3*df['x'] - 4) / 4\n",
    "\n",
    "#Display the dataframe\n",
    "df"
   ]
  },
  {
   "cell_type": "markdown",
   "metadata": {},
   "source": [
    "We can also plot these values to visualize the relationship between x and y as a line. For this reason, equations that describe a relative relationship between two variables are known as *linear equations*:"
   ]
  },
  {
   "cell_type": "code",
   "execution_count": 9,
   "metadata": {},
   "outputs": [
    {
     "data": {
      "image/png": "[encoded data removed]",
      "text/plain": [
       "<Figure size 432x288 with 1 Axes>"
      ]
     },
     "metadata": {
      "needs_background": "light"
     },
     "output_type": "display_data"
    }
   ],
   "source": [
    "%matplotlib inline\n",
    "from matplotlib import pyplot as plt\n",
    "\n",
    "plt.plot(df.x, df.y, color=\"blue\", marker = \"o\")\n",
    "plt.xlabel('x')\n",
    "plt.ylabel('y')\n",
    "plt.grid()\n",
    "plt.show()"
   ]
  },
  {
   "cell_type": "markdown",
   "metadata": {},
   "source": [
    "In a linear equation, a valid solution is described by an ordered pair of x and y values. For example, valid solutions to the linear equation above include:\n",
    "- (-10, -8.5)\n",
    "- (0, -1)\n",
    "- (10, 6.5)\n",
    "\n",
    "The cool thing about linear equations is that we can plot the points for some specific ordered pair solutions to create the line, and then interpolate the x value for any y value (or vice-versa) along the line."
   ]
  }
 ],
 "metadata": {
  "kernelspec": {
   "display_name": "Python 3",
   "language": "python",
   "name": "python3"
  },
  "language_info": {
   "codemirror_mode": {
    "name": "ipython",
    "version": 3
   },
   "file_extension": ".py",
   "mimetype": "text/x-python",
   "name": "python",
   "nbconvert_exporter": "python",
   "pygments_lexer": "ipython3",
   "version": "3.7.0"
  }
 },
 "nbformat": 4,
 "nbformat_minor": 2
}
