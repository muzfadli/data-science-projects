{
 "cells": [
  {
   "cell_type": "markdown",
   "metadata": {},
   "source": [
    "# Basic Statistics - Statistics Descriptive"
   ]
  },
  {
   "cell_type": "code",
   "execution_count": 2,
   "metadata": {},
   "outputs": [],
   "source": [
    "%matplotlib inline\n",
    "import matplotlib.pyplot as plt\n",
    "import numpy as np\n",
    "import pandas as pd\n",
    "import math"
   ]
  },
  {
   "cell_type": "markdown",
   "metadata": {},
   "source": [
    "### Data\n",
    "The data is a set of math exam score from 10 students."
   ]
  },
  {
   "cell_type": "code",
   "execution_count": 3,
   "metadata": {},
   "outputs": [
    {
     "data": {
      "text/html": [
       "<div>\n",
       "<style scoped>\n",
       "    .dataframe tbody tr th:only-of-type {\n",
       "        vertical-align: middle;\n",
       "    }\n",
       "\n",
       "    .dataframe tbody tr th {\n",
       "        vertical-align: top;\n",
       "    }\n",
       "\n",
       "    .dataframe thead th {\n",
       "        text-align: right;\n",
       "    }\n",
       "</style>\n",
       "<table border=\"1\" class=\"dataframe\">\n",
       "  <thead>\n",
       "    <tr style=\"text-align: right;\">\n",
       "      <th></th>\n",
       "      <th>math</th>\n",
       "    </tr>\n",
       "  </thead>\n",
       "  <tbody>\n",
       "    <tr>\n",
       "      <th>0</th>\n",
       "      <td>80</td>\n",
       "    </tr>\n",
       "    <tr>\n",
       "      <th>1</th>\n",
       "      <td>82</td>\n",
       "    </tr>\n",
       "    <tr>\n",
       "      <th>2</th>\n",
       "      <td>80</td>\n",
       "    </tr>\n",
       "    <tr>\n",
       "      <th>3</th>\n",
       "      <td>80</td>\n",
       "    </tr>\n",
       "    <tr>\n",
       "      <th>4</th>\n",
       "      <td>79</td>\n",
       "    </tr>\n",
       "    <tr>\n",
       "      <th>5</th>\n",
       "      <td>88</td>\n",
       "    </tr>\n",
       "    <tr>\n",
       "      <th>6</th>\n",
       "      <td>85</td>\n",
       "    </tr>\n",
       "    <tr>\n",
       "      <th>7</th>\n",
       "      <td>82</td>\n",
       "    </tr>\n",
       "    <tr>\n",
       "      <th>8</th>\n",
       "      <td>80</td>\n",
       "    </tr>\n",
       "    <tr>\n",
       "      <th>9</th>\n",
       "      <td>81</td>\n",
       "    </tr>\n",
       "  </tbody>\n",
       "</table>\n",
       "</div>"
      ],
      "text/plain": [
       "   math\n",
       "0    80\n",
       "1    82\n",
       "2    80\n",
       "3    80\n",
       "4    79\n",
       "5    88\n",
       "6    85\n",
       "7    82\n",
       "8    80\n",
       "9    81"
      ]
     },
     "execution_count": 3,
     "metadata": {},
     "output_type": "execute_result"
    }
   ],
   "source": [
    "data = pd.DataFrame({'math': \n",
    "                     [80, 82, 80, 80, 79, \n",
    "                      88, 85, 82, 80, 81]})\n",
    "data"
   ]
  },
  {
   "cell_type": "code",
   "execution_count": 4,
   "metadata": {},
   "outputs": [
    {
     "data": {
      "text/plain": [
       "Index(['math'], dtype='object')"
      ]
     },
     "execution_count": 4,
     "metadata": {},
     "output_type": "execute_result"
    }
   ],
   "source": [
    "data.columns"
   ]
  },
  {
   "cell_type": "code",
   "execution_count": 5,
   "metadata": {},
   "outputs": [
    {
     "data": {
      "text/plain": [
       "<matplotlib.axes._subplots.AxesSubplot at 0x5b74250>"
      ]
     },
     "execution_count": 5,
     "metadata": {},
     "output_type": "execute_result"
    },
    {
     "data": {
      "image/png": "[encoded data removed]",
      "text/plain": [
       "<Figure size 432x288 with 1 Axes>"
      ]
     },
     "metadata": {
      "needs_background": "light"
     },
     "output_type": "display_data"
    }
   ],
   "source": [
    "data.plot(kind='bar', color='#00A99D', alpha=.5)"
   ]
  },
  {
   "cell_type": "markdown",
   "metadata": {},
   "source": [
    "### Calculate maximum and minimum value"
   ]
  },
  {
   "cell_type": "code",
   "execution_count": 6,
   "metadata": {},
   "outputs": [
    {
     "name": "stdout",
     "output_type": "stream",
     "text": [
      "The maximum value is 88\n",
      "The minimum value is 79\n"
     ]
    }
   ],
   "source": [
    "# Calculate maximum value manually\n",
    "max_value = data.math[0]\n",
    "for i in data.math:\n",
    "    if i > max_value:\n",
    "        max_value = i\n",
    "print(\"The maximum value is\",max_value)\n",
    "\n",
    "# Calculate minimum value manually\n",
    "min_value = data.math[0]\n",
    "for ii in data.math:\n",
    "    if ii < min_value:\n",
    "        min_value = ii\n",
    "print(\"The minimum value is\",min_value)"
   ]
  },
  {
   "cell_type": "code",
   "execution_count": 7,
   "metadata": {},
   "outputs": [
    {
     "name": "stdout",
     "output_type": "stream",
     "text": [
      "The maximum value is 88\n",
      "The minimum value is 79\n"
     ]
    }
   ],
   "source": [
    "# We can also let pandas use NumPy's mean function to do the job\n",
    "print(\"The maximum value is\",data.math.max())\n",
    "print(\"The minimum value is\",data.math.min())"
   ]
  },
  {
   "cell_type": "code",
   "execution_count": 8,
   "metadata": {},
   "outputs": [
    {
     "name": "stdout",
     "output_type": "stream",
     "text": [
      "The maximum value is 88\n",
      "The minimum value is 79\n"
     ]
    }
   ],
   "source": [
    "# Or we can call NumPy's mean function ourselves\n",
    "print(\"The maximum value is\",np.max(data.math))\n",
    "print(\"The minimum value is\",np.min(data.math))"
   ]
  },
  {
   "cell_type": "markdown",
   "metadata": {},
   "source": [
    "### Calculate the mean value\n",
    "A common way to define the central value is to use the *mean*, often called the *average*. This is calculated as the sum of the values in the dataset, divided by the number of observations in the dataset. When the dataset consists of the full population, the mean is represented by the Greek symbol ***&mu;*** (*mu*), and the formula is written like this:\n",
    "\n",
    "\\begin{equation}\\mu = \\frac{\\displaystyle\\sum_{i=1}^{N}X_{i}}{N}\\end{equation}\n",
    "\n",
    "More commonly, when working with a sample, the mean is represented by ***x&#772;*** (*x-bar*), and the formula is written like this (note the lower case letters used to indicate values from a sample):\n",
    "\n",
    "\\begin{equation}\\bar{x} = \\frac{\\displaystyle\\sum_{i=1}^{n}x_{i}}{n}\\end{equation}\n",
    "\n",
    "In the case of our list of heights, this can be calculated as:\n",
    "\n",
    "\\begin{equation}\\bar{x} = \\frac{80+82+80+80+79+88+85+82+80+81}{10}\\end{equation}\n",
    "\n",
    "Which is **81.7**.\n",
    "\n",
    "In Python, when working with data in a *pandas.dataframe*, you can use the ***mean*** function, like this:"
   ]
  },
  {
   "cell_type": "code",
   "execution_count": 12,
   "metadata": {},
   "outputs": [
    {
     "name": "stdout",
     "output_type": "stream",
     "text": [
      "81.7\n"
     ]
    }
   ],
   "source": [
    "df = pd.DataFrame({'Name': ['Muzzammil', 'Johny', 'Susi', 'Fadli', 'Mela', 'Brendon', 'Rani', 'Utami', 'Dika', 'Dony'],\n",
    "                   'Math':[80, 82, 80, 80, 79, 88, 85, 82, 80, 81]})\n",
    "\n",
    "print (df['Math'].mean())"
   ]
  },
  {
   "cell_type": "code",
   "execution_count": 13,
   "metadata": {},
   "outputs": [
    {
     "name": "stdout",
     "output_type": "stream",
     "text": [
      "The mean value is 81.7\n"
     ]
    }
   ],
   "source": [
    "# Calculate the mean manually\n",
    "x, n = 0.0, 0\n",
    "\n",
    "for number_of_math in data.math:\n",
    "    x += number_of_math\n",
    "\n",
    "n = len(data.math)\n",
    "\n",
    "mean = x / n\n",
    "print(\"The mean value is\",mean)"
   ]
  },
  {
   "cell_type": "code",
   "execution_count": 15,
   "metadata": {},
   "outputs": [
    {
     "name": "stdout",
     "output_type": "stream",
     "text": [
      "The mean value is 81.7\n"
     ]
    }
   ],
   "source": [
    "# Or we can call NumPy's mean function ourselves\n",
    "print(\"The mean value is\",np.mean(data.math))"
   ]
  },
  {
   "cell_type": "code",
   "execution_count": 16,
   "metadata": {},
   "outputs": [
    {
     "data": {
      "text/plain": [
       "Text(1,83.7,'$\\\\mu=81.7$')"
      ]
     },
     "execution_count": 16,
     "metadata": {},
     "output_type": "execute_result"
    },
    {
     "data": {
      "image/png": "[encoded data removed]",
      "text/plain": [
       "<Figure size 576x360 with 1 Axes>"
      ]
     },
     "metadata": {
      "needs_background": "light"
     },
     "output_type": "display_data"
    }
   ],
   "source": [
    "data.plot(kind='bar', color='#00A99D', alpha=.5, figsize=(8,5))\n",
    "plt.plot([0, len(data.math)],[mean, mean])\n",
    "plt.text(1, mean+2, r'$\\mu=' + str(mean) + '$', fontsize=14)"
   ]
  },
  {
   "cell_type": "markdown",
   "metadata": {},
   "source": [
    "### Calculate the median\n",
    "The median is often a better measure of central tendency when we have extreme outliers. The median is the value in the middle after we sort the data. This is why outliers do not influence the median as much as they do the mean. If the number of observations $n$ is even, we have to take the mean of the two middle values. We calculate for a zero based index.\n",
    "\n",
    "\n",
    "$$n\\ is\\ odd:\\ \\ x_{median}=x_{\\frac{n-1}{2}}$$\n",
    "\n",
    "$$n\\ is\\ even:\\ \\ x_{median}=\\frac{x_\\frac{n-2}{2}+x_\\frac{n}{2}}{2}$$\n"
   ]
  },
  {
   "cell_type": "code",
   "execution_count": 17,
   "metadata": {},
   "outputs": [],
   "source": [
    "list1 = [41, 34, 94, 56, 53, 85, 99, 70, 11, 75, 36, 6, 60, 32, 9, 95, 92, 51, 95, 81, 64, 67, 22, 22, 35, 84, 91, 41, 68, 80, 26, 6, 25, 69, 33, 96, 35, 86, 80, 55, 10, 6, 89, 80, 20, 5, 60, 45, 33, 54, 86, 36, 77, 94, 36, 50, 39, 74, 47, 46, 38, 90, 24, 26, 81, 72, 40, 73, 55, 93, 54, 64, 9, 91, 63, 73, 84, 69, 28, 39, 84, 70, 56, 86, 47, 7, 63, 31, 72, 87, 85, 81, 28, 20, 11, 43, 85, 31, 63, 13, 58, 49, 42, 59, 55, 89, 36, 24, 46, 81, 7, 61, 51, 29, 35, 57, 47, 54, 32, 78, 58, 65, 5, 64, 92, 9, 20, 89, 30, 72, 84, 4, 19, 36, 37, 45, 39, 82, 49, 2, 5, 60, 82, 67, 57, 39, 72, 8, 31, 29, 83, 41, 69, 33, 59, 83, 47, 44, 9, 90, 2, 69, 1, 6, 32, 98, 14, 28, 54, 59, 23, 23, 97, 79, 89, 81, 31, 33, 25, 52, 36, 81, 29, 30, 34, 9, 3, 18, 44, 9, 16, 75, 21, 13, 73, 89, 75, 85, 79, 73, 22, 84, 23, 89, 32, 68, 7, 85, 99, 98, 76, 42, 29, 98, 70, 31, 3, 54, 78, 59, 11, 85, 3, 4, 98, 52, 96, 50, 7, 68, 39, 81, 98, 12, 60, 94, 37, 24, 85, 47, 8, 75, 94, 3, 54, 12, 16, 23, 87, 44]"
   ]
  },
  {
   "cell_type": "code",
   "execution_count": 18,
   "metadata": {},
   "outputs": [
    {
     "data": {
      "text/plain": [
       "[41,\n",
       " 34,\n",
       " 94,\n",
       " 56,\n",
       " 53,\n",
       " 85,\n",
       " 99,\n",
       " 70,\n",
       " 11,\n",
       " 75,\n",
       " 36,\n",
       " 6,\n",
       " 60,\n",
       " 32,\n",
       " 9,\n",
       " 95,\n",
       " 92,\n",
       " 51,\n",
       " 95,\n",
       " 81,\n",
       " 64,\n",
       " 67,\n",
       " 22,\n",
       " 22,\n",
       " 35,\n",
       " 84,\n",
       " 91,\n",
       " 41,\n",
       " 68,\n",
       " 80,\n",
       " 26,\n",
       " 6,\n",
       " 25,\n",
       " 69,\n",
       " 33,\n",
       " 96,\n",
       " 35,\n",
       " 86,\n",
       " 80,\n",
       " 55,\n",
       " 10,\n",
       " 6,\n",
       " 89,\n",
       " 80,\n",
       " 20,\n",
       " 5,\n",
       " 60,\n",
       " 45,\n",
       " 33,\n",
       " 54,\n",
       " 86,\n",
       " 36,\n",
       " 77,\n",
       " 94,\n",
       " 36,\n",
       " 50,\n",
       " 39,\n",
       " 74,\n",
       " 47,\n",
       " 46,\n",
       " 38,\n",
       " 90,\n",
       " 24,\n",
       " 26,\n",
       " 81,\n",
       " 72,\n",
       " 40,\n",
       " 73,\n",
       " 55,\n",
       " 93,\n",
       " 54,\n",
       " 64,\n",
       " 9,\n",
       " 91,\n",
       " 63,\n",
       " 73,\n",
       " 84,\n",
       " 69,\n",
       " 28,\n",
       " 39,\n",
       " 84,\n",
       " 70,\n",
       " 56,\n",
       " 86,\n",
       " 47,\n",
       " 7,\n",
       " 63,\n",
       " 31,\n",
       " 72,\n",
       " 87,\n",
       " 85,\n",
       " 81,\n",
       " 28,\n",
       " 20,\n",
       " 11,\n",
       " 43,\n",
       " 85,\n",
       " 31,\n",
       " 63,\n",
       " 13,\n",
       " 58,\n",
       " 49,\n",
       " 42,\n",
       " 59,\n",
       " 55,\n",
       " 89,\n",
       " 36,\n",
       " 24,\n",
       " 46,\n",
       " 81,\n",
       " 7,\n",
       " 61,\n",
       " 51,\n",
       " 29,\n",
       " 35,\n",
       " 57,\n",
       " 47,\n",
       " 54,\n",
       " 32,\n",
       " 78,\n",
       " 58,\n",
       " 65,\n",
       " 5,\n",
       " 64,\n",
       " 92,\n",
       " 9,\n",
       " 20,\n",
       " 89,\n",
       " 30,\n",
       " 72,\n",
       " 84,\n",
       " 4,\n",
       " 19,\n",
       " 36,\n",
       " 37,\n",
       " 45,\n",
       " 39,\n",
       " 82,\n",
       " 49,\n",
       " 2,\n",
       " 5,\n",
       " 60,\n",
       " 82,\n",
       " 67,\n",
       " 57,\n",
       " 39,\n",
       " 72,\n",
       " 8,\n",
       " 31,\n",
       " 29,\n",
       " 83,\n",
       " 41,\n",
       " 69,\n",
       " 33,\n",
       " 59,\n",
       " 83,\n",
       " 47,\n",
       " 44,\n",
       " 9,\n",
       " 90,\n",
       " 2,\n",
       " 69,\n",
       " 1,\n",
       " 6,\n",
       " 32,\n",
       " 98,\n",
       " 14,\n",
       " 28,\n",
       " 54,\n",
       " 59,\n",
       " 23,\n",
       " 23,\n",
       " 97,\n",
       " 79,\n",
       " 89,\n",
       " 81,\n",
       " 31,\n",
       " 33,\n",
       " 25,\n",
       " 52,\n",
       " 36,\n",
       " 81,\n",
       " 29,\n",
       " 30,\n",
       " 34,\n",
       " 9,\n",
       " 3,\n",
       " 18,\n",
       " 44,\n",
       " 9,\n",
       " 16,\n",
       " 75,\n",
       " 21,\n",
       " 13,\n",
       " 73,\n",
       " 89,\n",
       " 75,\n",
       " 85,\n",
       " 79,\n",
       " 73,\n",
       " 22,\n",
       " 84,\n",
       " 23,\n",
       " 89,\n",
       " 32,\n",
       " 68,\n",
       " 7,\n",
       " 85,\n",
       " 99,\n",
       " 98,\n",
       " 76,\n",
       " 42,\n",
       " 29,\n",
       " 98,\n",
       " 70,\n",
       " 31,\n",
       " 3,\n",
       " 54,\n",
       " 78,\n",
       " 59,\n",
       " 11,\n",
       " 85,\n",
       " 3,\n",
       " 4,\n",
       " 98,\n",
       " 52,\n",
       " 96,\n",
       " 50,\n",
       " 7,\n",
       " 68,\n",
       " 39,\n",
       " 81,\n",
       " 98,\n",
       " 12,\n",
       " 60,\n",
       " 94,\n",
       " 37,\n",
       " 24,\n",
       " 85,\n",
       " 47,\n",
       " 8,\n",
       " 75,\n",
       " 94,\n",
       " 3,\n",
       " 54,\n",
       " 12,\n",
       " 16,\n",
       " 23,\n",
       " 87,\n",
       " 44]"
      ]
     },
     "execution_count": 18,
     "metadata": {},
     "output_type": "execute_result"
    }
   ],
   "source": [
    "list1"
   ]
  },
  {
   "cell_type": "code",
   "execution_count": 20,
   "metadata": {},
   "outputs": [
    {
     "name": "stdout",
     "output_type": "stream",
     "text": [
      "The median value is 80.5\n"
     ]
    }
   ],
   "source": [
    "# Let calculate median using panda's mediaan function to do the job\n",
    "print(\"The median value is\",data.math.median())"
   ]
  },
  {
   "cell_type": "code",
   "execution_count": 21,
   "metadata": {},
   "outputs": [
    {
     "name": "stdout",
     "output_type": "stream",
     "text": [
      "The median value is 80.5\n"
     ]
    }
   ],
   "source": [
    "# Or we can call NumPy's mean function ourselves\n",
    "print(\"The median value is\",np.median(data.math))"
   ]
  },
  {
   "cell_type": "code",
   "execution_count": 22,
   "metadata": {},
   "outputs": [
    {
     "data": {
      "text/plain": [
       "math    80.5\n",
       "dtype: float64"
      ]
     },
     "execution_count": 22,
     "metadata": {},
     "output_type": "execute_result"
    }
   ],
   "source": [
    "data.median()"
   ]
  },
  {
   "cell_type": "markdown",
   "metadata": {},
   "source": [
    "## Calculate the Mode\n",
    "The mode is one or more values which occur most often in the series. This measure of central tendency is especially meaningful when you have a lot of repeated data points (like five-star ratings, day numbers). For the Garmin Vivofit data, however, this holds a problem, because we seldom have the same step count on a particular day. In that case we could categorize our data into range buckets, like 0-1000, 1000-2000 steps, and count the frequencies of the observations in the buckets. Choosing the right bucket size can be tricky, because we can obscure the data or miss the 'real' mode."
   ]
  },
  {
   "cell_type": "code",
   "execution_count": 23,
   "metadata": {},
   "outputs": [
    {
     "name": "stdout",
     "output_type": "stream",
     "text": [
      "The mode is  [81, 85]\n"
     ]
    }
   ],
   "source": [
    "max_same_value = 0\n",
    "mode_value = []\n",
    "count_value = {}\n",
    "list1.sort()\n",
    "for i in list1:\n",
    "    if i in count_value.keys():\n",
    "        count_value[i] = count_value[i] + 1\n",
    "    else:\n",
    "        count_value[i] = 1\n",
    "\n",
    "    if count_value[i] == max_same_value:\n",
    "        mode_value.append(i)\n",
    "    elif count_value[i] > max_same_value:\n",
    "        mode_value = [i]\n",
    "        max_same_value = count_value[i]\n",
    "mode_value.sort()\n",
    "print(\"The mode is \", mode_value)"
   ]
  },
  {
   "cell_type": "markdown",
   "metadata": {},
   "source": [
    "### Calculate the Variance\n",
    "The variance of a data set describes the average of the squared differences from the mean. In other words, it is a measure of how far each value in the data set is from the mean. The symbol for the variance of a population is $\\sigma^2$ (sigma squared) and for a sample we use $s^2$. We calculate the variance by summing the squared difference from the mean for each value. For the population, we divide by the number of values $n$ in the data set.\n",
    "\n",
    "$$population\\ variance:\\ \\sigma^2=\\frac{1}{n}\\sum_{i=0}^n(x_i-\\mu)^2$$\n",
    "\n",
    "For the sample we divide the summed up values by the degrees of freedom $n-1$ (also called Bessel's correction). We use $\\bar{x}$ (x bar) to symbolize our sample mean.\n",
    "\n",
    "$$sample\\ variance:\\ s^2=\\frac{1}{n-1}\\sum_{i=0}^n(x_i-\\bar{x})^2$$"
   ]
  },
  {
   "cell_type": "code",
   "execution_count": 24,
   "metadata": {},
   "outputs": [
    {
     "name": "stdout",
     "output_type": "stream",
     "text": [
      "The population variance value is 7.010000000000001\n"
     ]
    }
   ],
   "source": [
    "# To calculate the population variance\n",
    "n = len(data.math)\n",
    "\n",
    "# first calculate the mean\n",
    "mean = data.math.mean()\n",
    "\n",
    "# Sum up the squared differences from the mean\n",
    "squared_deviations = 0\n",
    "for v in data.math:\n",
    "    squared_deviations += (v - mean) ** 2\n",
    "\n",
    "population_variance = squared_deviations / n\n",
    "print(\"The population variance value is\",population_variance)"
   ]
  },
  {
   "cell_type": "code",
   "execution_count": 25,
   "metadata": {},
   "outputs": [
    {
     "name": "stdout",
     "output_type": "stream",
     "text": [
      "The sample variance value is 7.78888888888889\n"
     ]
    }
   ],
   "source": [
    "# To calculate the variance if we only have a sample\n",
    "# First calculate the degrees of freedom (apply Bessel's correction)\n",
    "dof = n - 1\n",
    "sample_variance = squared_deviations / dof\n",
    "print(\"The sample variance value is\",sample_variance)"
   ]
  },
  {
   "cell_type": "code",
   "execution_count": 26,
   "metadata": {},
   "outputs": [
    {
     "data": {
      "text/plain": [
       "(7.010000000000001, 7.78888888888889)"
      ]
     },
     "execution_count": 26,
     "metadata": {},
     "output_type": "execute_result"
    }
   ],
   "source": [
    "# Of course we can use pandas to let NumPy do the job for us\n",
    "# The ddof parameter stands for Delta Degrees of Freedom\n",
    "population_variance = data.math.var(ddof=0)\n",
    "sample_variance = data.math.var() # ddof=1 by default in pandas\n",
    "\n",
    "population_variance, sample_variance"
   ]
  },
  {
   "cell_type": "code",
   "execution_count": 27,
   "metadata": {},
   "outputs": [
    {
     "data": {
      "text/plain": [
       "(7.010000000000001, 7.78888888888889)"
      ]
     },
     "execution_count": 27,
     "metadata": {},
     "output_type": "execute_result"
    }
   ],
   "source": [
    "# Or call the NumPy var function ourselves\n",
    "population_variance = np.var(data.math) # ddof=0 by default in NumPy\n",
    "sample_variance = np.var(data.math, ddof=1)\n",
    "\n",
    "population_variance, sample_variance"
   ]
  },
  {
   "cell_type": "markdown",
   "metadata": {},
   "source": [
    "### Calculate the Standard Deviation\n",
    "The standard deviation is a widely used normalized measure of spread of a data set. Unlike the variance, the standard deviation is using the same scale as our values; dollars in this case. In a normal distribution, about 95% of the values are within two standard deviations of the mean. We use the Greek letter sigma $\\sigma$ to symbolize the population standard deviation. \n",
    "\n",
    "$$population\\ standard\\ deviation:\\ \\sigma=\\sqrt{\\frac{1}{n}\\sum_{i=0}^n(x_i-\\mu)^2}\\ \\ =\\ \\ \\sqrt{\\sigma^2}$$\n",
    "\n",
    "We use the lowercase letter $s$ if we indicate the sample standard deviation.\n",
    "\n",
    "$$sample\\ standard\\ deviation:\\ s=\\sqrt{\\frac{1}{n-1}\\sum_{i=0}^n(x_i-\\bar{x})^2}\\ \\ =\\ \\ \\sqrt{s^2}$$"
   ]
  },
  {
   "cell_type": "code",
   "execution_count": 28,
   "metadata": {},
   "outputs": [
    {
     "name": "stdout",
     "output_type": "stream",
     "text": [
      "The population standard deviation value is 2.6476404589747453\n"
     ]
    }
   ],
   "source": [
    "# To calculate the population standard deviation\n",
    "# we first need to calculate the population variance again\n",
    "n = len(data.math)\n",
    "\n",
    "# first calculate the mean\n",
    "mean = data.math.mean()\n",
    "\n",
    "# Sum up the squared differences from the mean\n",
    "squared_deviations = 0\n",
    "for v in data.math:\n",
    "    squared_deviations += (v - mean) ** 2\n",
    "\n",
    "population_variance = squared_deviations / n\n",
    "\n",
    "# Square the variance\n",
    "population_standard_deviation = math.sqrt(population_variance)\n",
    "print(\"The population standard deviation value is\",population_standard_deviation)"
   ]
  },
  {
   "cell_type": "code",
   "execution_count": 29,
   "metadata": {},
   "outputs": [
    {
     "name": "stdout",
     "output_type": "stream",
     "text": [
      "The sample standard deviation value is 2.7908580918579307\n"
     ]
    }
   ],
   "source": [
    "# To calculate the sample standard deviation\n",
    "# First calculate the degrees of freedom (apply Bessel's correction)\n",
    "dof = n - 1\n",
    "sample_variance = squared_deviations / dof\n",
    "\n",
    "# Square the variance\n",
    "sample_standard_deviation = math.sqrt(sample_variance)\n",
    "print(\"The sample standard deviation value is\",sample_standard_deviation)"
   ]
  },
  {
   "cell_type": "code",
   "execution_count": 30,
   "metadata": {},
   "outputs": [
    {
     "data": {
      "text/plain": [
       "(2.6476404589747453, 2.7908580918579307)"
      ]
     },
     "execution_count": 30,
     "metadata": {},
     "output_type": "execute_result"
    }
   ],
   "source": [
    "# Now let's use pandas to let NumPy do the job for us\n",
    "population_standard_deviation = data.math.std(ddof=0)\n",
    "sample_standard_deviation = data.math.std()\n",
    "\n",
    "population_standard_deviation, sample_standard_deviation"
   ]
  },
  {
   "cell_type": "code",
   "execution_count": 31,
   "metadata": {},
   "outputs": [
    {
     "data": {
      "text/plain": [
       "(2.6476404589747453, 2.7908580918579307)"
      ]
     },
     "execution_count": 31,
     "metadata": {},
     "output_type": "execute_result"
    }
   ],
   "source": [
    "# Or call the NumPy std function ourselves\n",
    "population_standard_deviation = np.std(data.math)\n",
    "sample_standard_deviation = np.std(data.math, ddof=1)\n",
    "\n",
    "population_standard_deviation, sample_standard_deviation"
   ]
  },
  {
   "cell_type": "markdown",
   "metadata": {},
   "source": [
    "### Summarizing Data Distribution in Python\n",
    "We've seen how to obtain individual statistics in Python, but you can also use the ***describe*** function to retrieve summary statistics for all numeric columns in a dataframe. These summary statistics include many of the statistics we've examined so far (though it's worth noting that the *median* is not included):"
   ]
  },
  {
   "cell_type": "code",
   "execution_count": null,
   "metadata": {},
   "outputs": [],
   "source": [
    "import pandas as pd\n",
    "\n",
    "df = pd.DataFrame({'Name': ['Dan', 'Joann', 'Pedro', 'Rosie', 'Ethan', 'Vicky', 'Frederic'],\n",
    "                   'Salary':[50000,54000,50000,189000,55000,40000,59000],\n",
    "                   'Hours':[41,40,36,17,35,39,40],\n",
    "                   'Grade':[50,50,46,95,50,5,57]})\n",
    "print(df.describe())"
   ]
  }
 ],
 "metadata": {
  "kernelspec": {
   "display_name": "Python 3",
   "language": "python",
   "name": "python3"
  },
  "language_info": {
   "codemirror_mode": {
    "name": "ipython",
    "version": 3
   },
   "file_extension": ".py",
   "mimetype": "text/x-python",
   "name": "python",
   "nbconvert_exporter": "python",
   "pygments_lexer": "ipython3",
   "version": "3.7.0"
  }
 },
 "nbformat": 4,
 "nbformat_minor": 2
}
