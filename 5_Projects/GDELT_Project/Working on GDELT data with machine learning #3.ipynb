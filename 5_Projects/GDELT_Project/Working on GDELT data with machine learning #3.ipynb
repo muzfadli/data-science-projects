{
 "cells": [
  {
   "cell_type": "markdown",
   "metadata": {},
   "source": [
    "## _Clustering_ pada Data GDELT"
   ]
  },
  {
   "cell_type": "markdown",
   "metadata": {},
   "source": [
    "### Data"
   ]
  },
  {
   "cell_type": "markdown",
   "metadata": {},
   "source": [
    "Data yang digunakan adalah data GoldsteinScale, NumMentions, NumSources dan NumArticles dari pemberitaan dengan tema yang sudah ditentukan sebelumnya."
   ]
  },
  {
   "cell_type": "code",
   "execution_count": 13,
   "metadata": {},
   "outputs": [],
   "source": [
    "import pandas as pd\n",
    "import numpy as np\n",
    "import matplotlib.pyplot as plt\n",
    "import seaborn as sns\n",
    "import os\n",
    "import pymysql"
   ]
  },
  {
   "cell_type": "code",
   "execution_count": 2,
   "metadata": {},
   "outputs": [],
   "source": [
    "gw = pd.read_excel('Data_Master.xlsx', 'Global Warming')\n",
    "pa = pd.read_excel('Data_Master.xlsx', 'Penyebab Alami')\n",
    "pi = pd.read_excel('Data_Master.xlsx', 'Perubahan Iklim')\n",
    "mi = pd.read_excel('Data_Master.xlsx', 'Mitigasi')\n",
    "pe = pd.read_excel('Data_Master.xlsx', 'Penyakit')"
   ]
  },
  {
   "cell_type": "code",
   "execution_count": 20,
   "metadata": {},
   "outputs": [],
   "source": [
    "gwm = gw[['SQLDATE','GoldsteinScale','NumMentions','NumSources', 'NumArticles', 'AvgTone']]\n",
    "pal = pa[['SQLDATE','GoldsteinScale','NumMentions','NumSources', 'NumArticles', 'AvgTone']]\n",
    "pik = pi[['SQLDATE','GoldsteinScale','NumMentions','NumSources', 'NumArticles', 'AvgTone']]\n",
    "mit = mi[['SQLDATE','GoldsteinScale','NumMentions','NumSources', 'NumArticles', 'AvgTone']]\n",
    "pen = pe[['SQLDATE','GoldsteinScale','NumMentions','NumSources', 'NumArticles', 'AvgTone']]"
   ]
  },
  {
   "cell_type": "code",
   "execution_count": 37,
   "metadata": {},
   "outputs": [
    {
     "name": "stdout",
     "output_type": "stream",
     "text": [
      "1.7755469399058403 0.804686548995745 2.3891380826736914 1.945879518072272 1.1549261825851254\n",
      "7.546109111049571 22.620511259890446 6.754617414248021 6.773493975903614 18.907200964145826\n",
      "1.4608141788978122 4.3116250760803405 1.4067722075637643 1.3262650602409638 4.042783971075625\n",
      "7.476876211575741 22.141509433962263 6.703605980650836 6.6891566265060245 18.67128653208798\n"
     ]
    }
   ],
   "source": [
    "print(gwm['GoldsteinScale'].mean(), pal['GoldsteinScale'].mean(), pik['GoldsteinScale'].mean(), mit['GoldsteinScale'].mean(), pen['GoldsteinScale'].mean())\n",
    "print(gwm['NumMentions'].mean(), pal['NumMentions'].mean(), pik['NumMentions'].mean(), mit['NumMentions'].mean(), pen['NumMentions'].mean())\n",
    "print(gwm['NumSources'].mean(), pal['NumSources'].mean(), pik['NumSources'].mean(), mit['NumSources'].mean(), pen['NumSources'].mean())\n",
    "print(gwm['NumArticles'].mean(), pal['NumArticles'].mean(), pik['NumArticles'].mean(), mit['NumArticles'].mean(), pen['NumArticles'].mean())\n"
   ]
  },
  {
   "cell_type": "code",
   "execution_count": 44,
   "metadata": {},
   "outputs": [],
   "source": [
    "data1 = pd.Series([1.154926,  0.804686548995745, 2.3891380826736914, 1.945879518072272, 1.1549261825851254],\n",
    "                 index=['Global Warming', 'Penyebab Alami', 'Perubahan Iklim', 'Mitigasi', 'Penyakit'])\n",
    "data2 = pd.Series([7.546109111049571, 22.620511259890446, 6.754617414248021, 6.773493975903614, 18.907200964145826],\n",
    "                 index=['Global Warming', 'Penyebab Alami', 'Perubahan Iklim', 'Mitigasi', 'Penyakit'])\n",
    "data3 = pd.Series([1.4608141788978122, 4.3116250760803405, 1.4067722075637643, 1.3262650602409638, 4.042783971075625],\n",
    "                 index=['Global Warming', 'Penyebab Alami', 'Perubahan Iklim', 'Mitigasi', 'Penyakit'])\n",
    "data4 = pd.Series([7.476876211575741, 22.141509433962263, 6.703605980650836, 6.6891566265060245, 18.67128653208798],\n",
    "                 index=['Global Warming', 'Penyebab Alami', 'Perubahan Iklim', 'Mitigasi', 'Penyakit'])"
   ]
  },
  {
   "cell_type": "code",
   "execution_count": 47,
   "metadata": {},
   "outputs": [],
   "source": [
    "data = pd.DataFrame({'GoldsteinScale': data1, 'NumMentions': data2, 'NumSources': data3, 'NumArticles': data4})"
   ]
  },
  {
   "cell_type": "code",
   "execution_count": 70,
   "metadata": {},
   "outputs": [
    {
     "data": {
      "text/html": [
       "<div>\n",
       "<style scoped>\n",
       "    .dataframe tbody tr th:only-of-type {\n",
       "        vertical-align: middle;\n",
       "    }\n",
       "\n",
       "    .dataframe tbody tr th {\n",
       "        vertical-align: top;\n",
       "    }\n",
       "\n",
       "    .dataframe thead th {\n",
       "        text-align: right;\n",
       "    }\n",
       "</style>\n",
       "<table border=\"1\" class=\"dataframe\">\n",
       "  <thead>\n",
       "    <tr style=\"text-align: right;\">\n",
       "      <th></th>\n",
       "      <th>GoldsteinScale</th>\n",
       "      <th>NumMentions</th>\n",
       "      <th>NumSources</th>\n",
       "      <th>NumArticles</th>\n",
       "    </tr>\n",
       "  </thead>\n",
       "  <tbody>\n",
       "    <tr>\n",
       "      <th>GoldsteinScale</th>\n",
       "      <td>1.000000</td>\n",
       "      <td>-0.760014</td>\n",
       "      <td>-0.733637</td>\n",
       "      <td>-0.759648</td>\n",
       "    </tr>\n",
       "    <tr>\n",
       "      <th>NumMentions</th>\n",
       "      <td>-0.760014</td>\n",
       "      <td>1.000000</td>\n",
       "      <td>0.993597</td>\n",
       "      <td>0.999969</td>\n",
       "    </tr>\n",
       "    <tr>\n",
       "      <th>NumSources</th>\n",
       "      <td>-0.733637</td>\n",
       "      <td>0.993597</td>\n",
       "      <td>1.000000</td>\n",
       "      <td>0.994428</td>\n",
       "    </tr>\n",
       "    <tr>\n",
       "      <th>NumArticles</th>\n",
       "      <td>-0.759648</td>\n",
       "      <td>0.999969</td>\n",
       "      <td>0.994428</td>\n",
       "      <td>1.000000</td>\n",
       "    </tr>\n",
       "  </tbody>\n",
       "</table>\n",
       "</div>"
      ],
      "text/plain": [
       "                GoldsteinScale  NumMentions  NumSources  NumArticles\n",
       "GoldsteinScale        1.000000    -0.760014   -0.733637    -0.759648\n",
       "NumMentions          -0.760014     1.000000    0.993597     0.999969\n",
       "NumSources           -0.733637     0.993597    1.000000     0.994428\n",
       "NumArticles          -0.759648     0.999969    0.994428     1.000000"
      ]
     },
     "execution_count": 70,
     "metadata": {},
     "output_type": "execute_result"
    }
   ],
   "source": [
    "data.corr()"
   ]
  },
  {
   "cell_type": "markdown",
   "metadata": {},
   "source": [
    "Akan digunakan _clustering_ untuk mengetahui artikel manakah yang menjaadi _tending_ diantara artikel lainnya"
   ]
  },
  {
   "cell_type": "markdown",
   "metadata": {},
   "source": [
    "Sebelum dilakukan _clustering_, harus ditentukan banyaknya _cluster_ yang ingin dibentuk terlebiih dahulu. Dalam penelitian ingin diketahui apakah artikel masuk _trending_ atau tidak, sehingga ditentukan banyaknya _cluster_ yaitu 2 _cluster_."
   ]
  },
  {
   "cell_type": "code",
   "execution_count": 52,
   "metadata": {},
   "outputs": [],
   "source": [
    "from sklearn import cluster"
   ]
  },
  {
   "cell_type": "code",
   "execution_count": 54,
   "metadata": {},
   "outputs": [
    {
     "data": {
      "text/plain": [
       "KMeans(algorithm='auto', copy_x=True, init='k-means++', max_iter=300,\n",
       "    n_clusters=2, n_init=10, n_jobs=1, precompute_distances='auto',\n",
       "    random_state=None, tol=0.0001, verbose=0)"
      ]
     },
     "execution_count": 54,
     "metadata": {},
     "output_type": "execute_result"
    }
   ],
   "source": [
    "X = data\n",
    "y = data.index\n",
    "k_means = cluster.KMeans(n_clusters=2)\n",
    "k_means.fit(X)"
   ]
  },
  {
   "cell_type": "code",
   "execution_count": 62,
   "metadata": {},
   "outputs": [
    {
     "name": "stdout",
     "output_type": "stream",
     "text": [
      "[0 1 0 0 1]\n"
     ]
    }
   ],
   "source": [
    "print(k_means.labels_[:])"
   ]
  },
  {
   "cell_type": "code",
   "execution_count": 66,
   "metadata": {},
   "outputs": [],
   "source": [
    "dataclust = pd.DataFrame({'GoldsteinScale': data1, 'NumMentions': data2, 'NumSources': data3, 'NumArticles': data4, 'Clust': k_means.labels_[:]})"
   ]
  },
  {
   "cell_type": "code",
   "execution_count": 67,
   "metadata": {},
   "outputs": [
    {
     "data": {
      "text/html": [
       "<div>\n",
       "<style scoped>\n",
       "    .dataframe tbody tr th:only-of-type {\n",
       "        vertical-align: middle;\n",
       "    }\n",
       "\n",
       "    .dataframe tbody tr th {\n",
       "        vertical-align: top;\n",
       "    }\n",
       "\n",
       "    .dataframe thead th {\n",
       "        text-align: right;\n",
       "    }\n",
       "</style>\n",
       "<table border=\"1\" class=\"dataframe\">\n",
       "  <thead>\n",
       "    <tr style=\"text-align: right;\">\n",
       "      <th></th>\n",
       "      <th>GoldsteinScale</th>\n",
       "      <th>NumMentions</th>\n",
       "      <th>NumSources</th>\n",
       "      <th>NumArticles</th>\n",
       "      <th>Clust</th>\n",
       "    </tr>\n",
       "  </thead>\n",
       "  <tbody>\n",
       "    <tr>\n",
       "      <th>Global Warming</th>\n",
       "      <td>1.154926</td>\n",
       "      <td>7.546109</td>\n",
       "      <td>1.460814</td>\n",
       "      <td>7.476876</td>\n",
       "      <td>0</td>\n",
       "    </tr>\n",
       "    <tr>\n",
       "      <th>Penyebab Alami</th>\n",
       "      <td>0.804687</td>\n",
       "      <td>22.620511</td>\n",
       "      <td>4.311625</td>\n",
       "      <td>22.141509</td>\n",
       "      <td>1</td>\n",
       "    </tr>\n",
       "    <tr>\n",
       "      <th>Perubahan Iklim</th>\n",
       "      <td>2.389138</td>\n",
       "      <td>6.754617</td>\n",
       "      <td>1.406772</td>\n",
       "      <td>6.703606</td>\n",
       "      <td>0</td>\n",
       "    </tr>\n",
       "    <tr>\n",
       "      <th>Mitigasi</th>\n",
       "      <td>1.945880</td>\n",
       "      <td>6.773494</td>\n",
       "      <td>1.326265</td>\n",
       "      <td>6.689157</td>\n",
       "      <td>0</td>\n",
       "    </tr>\n",
       "    <tr>\n",
       "      <th>Penyakit</th>\n",
       "      <td>1.154926</td>\n",
       "      <td>18.907201</td>\n",
       "      <td>4.042784</td>\n",
       "      <td>18.671287</td>\n",
       "      <td>1</td>\n",
       "    </tr>\n",
       "  </tbody>\n",
       "</table>\n",
       "</div>"
      ],
      "text/plain": [
       "                 GoldsteinScale  NumMentions  NumSources  NumArticles  Clust\n",
       "Global Warming         1.154926     7.546109    1.460814     7.476876      0\n",
       "Penyebab Alami         0.804687    22.620511    4.311625    22.141509      1\n",
       "Perubahan Iklim        2.389138     6.754617    1.406772     6.703606      0\n",
       "Mitigasi               1.945880     6.773494    1.326265     6.689157      0\n",
       "Penyakit               1.154926    18.907201    4.042784    18.671287      1"
      ]
     },
     "execution_count": 67,
     "metadata": {},
     "output_type": "execute_result"
    }
   ],
   "source": [
    "dataclust"
   ]
  },
  {
   "cell_type": "markdown",
   "metadata": {},
   "source": [
    "_Cluster_ 0 menyatakan bahwa artikel bukan _trending_ topik yang meliputi artikel dengan tema global warming, perubahan iklim, dan mitigasi. _Cluster_ 1 menyatakan bahwa bahwa artikel merupakan _trending_ topik yang meliputi artikel dengan tema penyebab alami dan penyakit."
   ]
  }
 ],
 "metadata": {
  "kernelspec": {
   "display_name": "Python 3",
   "language": "python",
   "name": "python3"
  },
  "language_info": {
   "codemirror_mode": {
    "name": "ipython",
    "version": 3
   },
   "file_extension": ".py",
   "mimetype": "text/x-python",
   "name": "python",
   "nbconvert_exporter": "python",
   "pygments_lexer": "ipython3",
   "version": "3.7.0"
  }
 },
 "nbformat": 4,
 "nbformat_minor": 2
}
